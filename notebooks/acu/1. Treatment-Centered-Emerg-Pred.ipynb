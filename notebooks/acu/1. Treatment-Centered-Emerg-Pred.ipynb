{
 "cells": [
  {
   "cell_type": "code",
   "execution_count": 1,
   "metadata": {},
   "outputs": [],
   "source": [
    "%%capture\n",
    "%cd ../../\n",
    "%load_ext autoreload\n",
    "%autoreload 2"
   ]
  },
  {
   "cell_type": "code",
   "execution_count": 3,
   "metadata": {},
   "outputs": [],
   "source": [
    "from collections import defaultdict\n",
    "from datetime import datetime\n",
    "from functools import partial\n",
    "import logging\n",
    "\n",
    "from bayes_opt import BayesianOptimization\n",
    "from lightgbm import LGBMClassifier\n",
    "from sklearn.linear_model import LogisticRegression\n",
    "from sklearn.metrics import average_precision_score, roc_auc_score\n",
    "from xgboost import XGBClassifier\n",
    "import pandas as pd\n",
    "\n",
    "from ml_common.filter import drop_highly_missing_features, drop_unused_drug_features\n",
    "from ml_common.engineer import collapse_rare_categories, get_change_since_prev_session, get_missingness_features\n",
    "from ml_common.util import get_excluded_numbers, load_pickle, save_pickle\n",
    "\n",
    "from preduce.acu.label import get_event_labels\n",
    "from preduce.acu.pipeline import PrepACUData\n",
    "from preduce.prepare.filter import drop_samples_outside_study_date\n",
    "from preduce.prepare.prep import fill_missing_data\n",
    "from preduce.summarize import feature_summary, get_label_distribution\n",
    "from preduce.util import initialize_folders\n",
    "\n",
    "from sklearn.exceptions import ConvergenceWarning\n",
    "import warnings\n",
    "warnings.filterwarnings(\"ignore\", category=ConvergenceWarning)\n",
    "\n",
    "pd.set_option('display.max_rows', 150)\n",
    "\n",
    "initialize_folders()\n",
    "\n",
    "logging.basicConfig(\n",
    "    filename=f\"./logs/{datetime.now().strftime('%Y-%m-%d %H.%M.%S')}_ED_target.log\",\n",
    "    level=logging.INFO, \n",
    "    format='%(asctime)s %(levelname)s:%(message)s', \n",
    "    datefmt='%Y-%m-%d %H:%M:%S'\n",
    ")"
   ]
  },
  {
   "cell_type": "code",
   "execution_count": 4,
   "metadata": {},
   "outputs": [],
   "source": [
    "# Load data\n",
    "df = pd.read_parquet('./data//processed/treatment_centered_clinical_dataset.parquet.gzip')\n",
    "df['assessment_date'] = df['treatment_date']\n",
    "emerg = pd.read_parquet('./data/interim/emergency_room_visit.parquet.gzip')"
   ]
  },
  {
   "cell_type": "markdown",
   "metadata": {},
   "source": [
    "# Prepare Data"
   ]
  },
  {
   "cell_type": "code",
   "execution_count": 5,
   "metadata": {},
   "outputs": [
    {
     "name": "stderr",
     "output_type": "stream",
     "text": [
      "Getting change since last session...: 100%|██████████| 9297/9297 [00:03<00:00, 3082.68it/s]\n",
      "100%|██████████| 2324/2324 [00:09<00:00, 244.75it/s]\n",
      "100%|██████████| 2325/2325 [00:09<00:00, 234.07it/s]\n",
      "100%|██████████| 2324/2324 [00:09<00:00, 238.76it/s]\n",
      "100%|██████████| 2324/2324 [00:09<00:00, 237.60it/s]\n"
     ]
    }
   ],
   "source": [
    "prep = PrepACUData()\n",
    "df = prep.preprocess(df, emerg)"
   ]
  },
  {
   "cell_type": "code",
   "execution_count": 6,
   "metadata": {},
   "outputs": [],
   "source": [
    "# To align with EPIC system for silent deployment\n",
    "# 1. remove drug and morphology features\n",
    "# 2. restrict to GI patients\n",
    "# This will be temporary\n",
    "cols = df.columns\n",
    "cols = cols[~cols.str.contains('morphology|%_ideal_dose')]\n",
    "df = df[cols]\n",
    "\n",
    "mask = df['regimen'].str.startswith('GI-')\n",
    "get_excluded_numbers(df, mask, context=' not from GI department')\n",
    "df = df[mask]"
   ]
  },
  {
   "cell_type": "code",
   "execution_count": 7,
   "metadata": {},
   "outputs": [],
   "source": [
    "# prep = PrepACUData()\n",
    "# X, Y, metainfo = prep.prepare(df, event_name='ED_visit')\n",
    "\n",
    "from ml_common.prep import PrepData, Splitter\n",
    "from preduce.prepare.filter import exclude_immediate_events\n",
    "prep = PrepData()\n",
    "\n",
    "# split the data - create training, validation, testing set\n",
    "splitter = Splitter()\n",
    "train_data, valid_data, test_data = splitter.split_data(\n",
    "    df, split_date=\"2018-02-01\"\n",
    ")\n",
    "\n",
    "# Remove sessions where event occured immediately afterwards on the train and valid set ONLY\n",
    "train_data = exclude_immediate_events(\n",
    "    train_data, date_cols=[\"target_ED_visit_date\"]\n",
    ")\n",
    "valid_data = exclude_immediate_events(\n",
    "    valid_data, date_cols=[\"target_ED_visit_date\"]\n",
    ")\n",
    "\n",
    "# IMPORTANT: always make sure train data is done first for one-hot encoding, clipping, imputing, scaling\n",
    "train_data = prep.transform_data(train_data, data_name=\"training\")\n",
    "valid_data = prep.transform_data(valid_data, data_name=\"validation\")\n",
    "test_data = prep.transform_data(test_data, data_name=\"testing\")\n",
    "\n",
    "# create a split column and combine the data for convenience\n",
    "train_data[[\"cohort\", \"split\"]] = [\"Development\", \"Train\"]\n",
    "valid_data[[\"cohort\", \"split\"]] = [\"Development\", \"Valid\"]\n",
    "test_data[[\"cohort\", \"split\"]] = \"Test\"\n",
    "data = pd.concat([train_data, valid_data, test_data])\n",
    "\n",
    "# split into input features, output labels, and metainfo\n",
    "cols = data.columns\n",
    "meta_cols = [\"mrn\", \"cohort\", \"split\"] + cols[\n",
    "    cols.str.contains(\"date\")\n",
    "].tolist()\n",
    "targ_cols = cols[\n",
    "    cols.str.contains(\"target\") & ~cols.str.contains(\"date\")\n",
    "].tolist()\n",
    "feat_cols = cols.drop(meta_cols + targ_cols).tolist()\n",
    "X, Y, metainfo = data[feat_cols], data[targ_cols], data[meta_cols]\n",
    "\n",
    "# clean up Y\n",
    "for col in ['target_CEDIS_complaint', 'target_CTAS_score']:\n",
    "    metainfo[col] = Y.pop(col)\n",
    "Y.columns = Y.columns.str.replace('target_', '')"
   ]
  },
  {
   "cell_type": "code",
   "execution_count": 8,
   "metadata": {},
   "outputs": [],
   "source": [
    "train_mask, valid_mask, test_mask = metainfo['split'] == 'Train', metainfo['split'] == 'Valid', metainfo['split'] == 'Test'\n",
    "X_train, X_valid, X_test = X[train_mask], X[valid_mask], X[test_mask]\n",
    "Y_train, Y_valid, Y_test = Y[train_mask], Y[valid_mask], Y[test_mask]"
   ]
  },
  {
   "cell_type": "code",
   "execution_count": 8,
   "metadata": {},
   "outputs": [],
   "source": [
    "# Save the data prep for silent deployment\n",
    "# So we transform new incoming data using the original data preparer\n",
    "save_pickle(prep.scaler, './result', 'scaler_ED')\n",
    "save_pickle(prep.imp.imputer, './result', 'imputer_ED')\n",
    "save_pickle(prep.clip_thresh, './result', 'clip_thresh_ED')\n",
    "save_pickle(prep.ohe.final_columns, './result', 'encoded_cols_ED')\n",
    "\n",
    "# X.to_csv('./data/debug/to_muammar/X.csv', index=False)\n",
    "# Y.to_csv('./data/debug/to_muammar/Y.csv', index=False)\n",
    "# metainfo.to_csv('./data/debug/to_muammar/metainfo.csv', index=False)\n",
    "# df.loc[X.index].to_csv('./data/debug/to_muammar/orig.csv', index=False)"
   ]
  },
  {
   "cell_type": "markdown",
   "metadata": {},
   "source": [
    "# Describe Data"
   ]
  },
  {
   "cell_type": "code",
   "execution_count": 12,
   "metadata": {},
   "outputs": [
    {
     "name": "stdout",
     "output_type": "stream",
     "text": [
      "\n",
      "split               Test  Train  Valid  Total\n",
      "Number of sessions  5039  15484   3827  24350\n",
      "Number of patients   491   1205    301   1997\n"
     ]
    }
   ],
   "source": [
    "# NOTE: exclude_after_split is set to False here (that's why we have a bit more training and validation examples)\n",
    "count = pd.DataFrame({\n",
    "    'Number of sessions': metainfo.groupby('split').apply(len), \n",
    "    'Number of patients': metainfo.groupby('split')['mrn'].nunique()}\n",
    ").T\n",
    "count['Total'] = count.sum(axis=1)\n",
    "print(f'\\n{count.to_string()}')"
   ]
  },
  {
   "cell_type": "code",
   "execution_count": 14,
   "metadata": {},
   "outputs": [
    {
     "data": {
      "text/html": [
       "<div>\n",
       "<style scoped>\n",
       "    .dataframe tbody tr th:only-of-type {\n",
       "        vertical-align: middle;\n",
       "    }\n",
       "\n",
       "    .dataframe tbody tr th {\n",
       "        vertical-align: top;\n",
       "    }\n",
       "\n",
       "    .dataframe thead tr th {\n",
       "        text-align: left;\n",
       "    }\n",
       "</style>\n",
       "<table border=\"1\" class=\"dataframe\">\n",
       "  <thead>\n",
       "    <tr>\n",
       "      <th></th>\n",
       "      <th colspan=\"2\" halign=\"left\">Test</th>\n",
       "      <th colspan=\"2\" halign=\"left\">Train</th>\n",
       "      <th colspan=\"2\" halign=\"left\">Valid</th>\n",
       "      <th colspan=\"2\" halign=\"left\">Total</th>\n",
       "    </tr>\n",
       "    <tr>\n",
       "      <th>ED_visit</th>\n",
       "      <th>False</th>\n",
       "      <th>True</th>\n",
       "      <th>False</th>\n",
       "      <th>True</th>\n",
       "      <th>False</th>\n",
       "      <th>True</th>\n",
       "      <th>False</th>\n",
       "      <th>True</th>\n",
       "    </tr>\n",
       "  </thead>\n",
       "  <tbody>\n",
       "    <tr>\n",
       "      <th>ED_visit</th>\n",
       "      <td>4515</td>\n",
       "      <td>524</td>\n",
       "      <td>14136</td>\n",
       "      <td>1348</td>\n",
       "      <td>3480</td>\n",
       "      <td>347</td>\n",
       "      <td>22131</td>\n",
       "      <td>2219</td>\n",
       "    </tr>\n",
       "  </tbody>\n",
       "</table>\n",
       "</div>"
      ],
      "text/plain": [
       "          Test        Train       Valid        Total      \n",
       "ED_visit False True   False True  False True   False True \n",
       "ED_visit  4515   524  14136  1348  3480   347  22131  2219"
      ]
     },
     "execution_count": 14,
     "metadata": {},
     "output_type": "execute_result"
    }
   ],
   "source": [
    "get_label_distribution(Y, metainfo, with_respect_to='sessions')"
   ]
  },
  {
   "cell_type": "code",
   "execution_count": 15,
   "metadata": {},
   "outputs": [
    {
     "data": {
      "text/html": [
       "<div>\n",
       "<style scoped>\n",
       "    .dataframe tbody tr th:only-of-type {\n",
       "        vertical-align: middle;\n",
       "    }\n",
       "\n",
       "    .dataframe tbody tr th {\n",
       "        vertical-align: top;\n",
       "    }\n",
       "\n",
       "    .dataframe thead tr th {\n",
       "        text-align: left;\n",
       "    }\n",
       "</style>\n",
       "<table border=\"1\" class=\"dataframe\">\n",
       "  <thead>\n",
       "    <tr>\n",
       "      <th></th>\n",
       "      <th colspan=\"2\" halign=\"left\">Test</th>\n",
       "      <th colspan=\"2\" halign=\"left\">Train</th>\n",
       "      <th colspan=\"2\" halign=\"left\">Valid</th>\n",
       "      <th colspan=\"2\" halign=\"left\">Total</th>\n",
       "    </tr>\n",
       "    <tr>\n",
       "      <th></th>\n",
       "      <th>1</th>\n",
       "      <th>0</th>\n",
       "      <th>1</th>\n",
       "      <th>0</th>\n",
       "      <th>1</th>\n",
       "      <th>0</th>\n",
       "      <th>1</th>\n",
       "      <th>0</th>\n",
       "    </tr>\n",
       "  </thead>\n",
       "  <tbody>\n",
       "    <tr>\n",
       "      <th>ED_visit</th>\n",
       "      <td>183</td>\n",
       "      <td>308</td>\n",
       "      <td>446</td>\n",
       "      <td>759</td>\n",
       "      <td>112</td>\n",
       "      <td>189</td>\n",
       "      <td>741</td>\n",
       "      <td>1256</td>\n",
       "    </tr>\n",
       "  </tbody>\n",
       "</table>\n",
       "</div>"
      ],
      "text/plain": [
       "         Test      Train      Valid      Total      \n",
       "            1    0     1    0     1    0     1     0\n",
       "ED_visit  183  308   446  759   112  189   741  1256"
      ]
     },
     "execution_count": 15,
     "metadata": {},
     "output_type": "execute_result"
    }
   ],
   "source": [
    "get_label_distribution(Y, metainfo, with_respect_to='patients')"
   ]
  },
  {
   "cell_type": "code",
   "execution_count": 18,
   "metadata": {},
   "outputs": [
    {
     "data": {
      "text/html": [
       "<div>\n",
       "<style scoped>\n",
       "    .dataframe tbody tr th:only-of-type {\n",
       "        vertical-align: middle;\n",
       "    }\n",
       "\n",
       "    .dataframe tbody tr th {\n",
       "        vertical-align: top;\n",
       "    }\n",
       "\n",
       "    .dataframe thead th {\n",
       "        text-align: right;\n",
       "    }\n",
       "</style>\n",
       "<table border=\"1\" class=\"dataframe\">\n",
       "  <thead>\n",
       "    <tr style=\"text-align: right;\">\n",
       "      <th></th>\n",
       "      <th>Features</th>\n",
       "      <th>Group</th>\n",
       "      <th>Mean (SD)</th>\n",
       "      <th>Missingness (%)</th>\n",
       "    </tr>\n",
       "  </thead>\n",
       "  <tbody>\n",
       "    <tr>\n",
       "      <th>109</th>\n",
       "      <td>Phosphate Change</td>\n",
       "      <td>Laboratory</td>\n",
       "      <td>-0.006 (0.176)</td>\n",
       "      <td>72.5</td>\n",
       "    </tr>\n",
       "    <tr>\n",
       "      <th>153</th>\n",
       "      <td>Regimen GI-XELOX</td>\n",
       "      <td>Treatment</td>\n",
       "      <td>0.004 (0.066)</td>\n",
       "      <td>0.0</td>\n",
       "    </tr>\n",
       "    <tr>\n",
       "      <th>126</th>\n",
       "      <td>Regimen GI-FOLFIRI</td>\n",
       "      <td>Treatment</td>\n",
       "      <td>0.032 (0.175)</td>\n",
       "      <td>0.0</td>\n",
       "    </tr>\n",
       "    <tr>\n",
       "      <th>55</th>\n",
       "      <td>Hematocrit (L/L)</td>\n",
       "      <td>Laboratory</td>\n",
       "      <td>0.337 (0.047)</td>\n",
       "      <td>48.5</td>\n",
       "    </tr>\n",
       "    <tr>\n",
       "      <th>85</th>\n",
       "      <td>ESAS Anxiety Score Change</td>\n",
       "      <td>Symptoms</td>\n",
       "      <td>-0.014 (1.208)</td>\n",
       "      <td>32.3</td>\n",
       "    </tr>\n",
       "    <tr>\n",
       "      <th>32</th>\n",
       "      <td>Topography ICD-0-3 C34, Bronchus and lung</td>\n",
       "      <td>Cancer</td>\n",
       "      <td>0.004 (0.066)</td>\n",
       "      <td>0.0</td>\n",
       "    </tr>\n",
       "    <tr>\n",
       "      <th>145</th>\n",
       "      <td>Regimen GI-GEMCISP (BILIARY)</td>\n",
       "      <td>Treatment</td>\n",
       "      <td>0.075 (0.264)</td>\n",
       "      <td>0.0</td>\n",
       "    </tr>\n",
       "    <tr>\n",
       "      <th>53</th>\n",
       "      <td>Eosinophil (x10e9/L)</td>\n",
       "      <td>Laboratory</td>\n",
       "      <td>0.156 (0.143)</td>\n",
       "      <td>65.9</td>\n",
       "    </tr>\n",
       "    <tr>\n",
       "      <th>84</th>\n",
       "      <td>ESAS Depression Score Change</td>\n",
       "      <td>Symptoms</td>\n",
       "      <td>-0.001 (1.127)</td>\n",
       "      <td>32.3</td>\n",
       "    </tr>\n",
       "    <tr>\n",
       "      <th>139</th>\n",
       "      <td>Regimen GI-GEM 40MG/M2 2X/WK</td>\n",
       "      <td>Treatment</td>\n",
       "      <td>0.026 (0.160)</td>\n",
       "      <td>0.0</td>\n",
       "    </tr>\n",
       "  </tbody>\n",
       "</table>\n",
       "</div>"
      ],
      "text/plain": [
       "                                      Features       Group       Mean (SD)  \\\n",
       "109                           Phosphate Change  Laboratory  -0.006 (0.176)   \n",
       "153                           Regimen GI-XELOX   Treatment   0.004 (0.066)   \n",
       "126                         Regimen GI-FOLFIRI   Treatment   0.032 (0.175)   \n",
       "55                            Hematocrit (L/L)  Laboratory   0.337 (0.047)   \n",
       "85                   ESAS Anxiety Score Change    Symptoms  -0.014 (1.208)   \n",
       "32   Topography ICD-0-3 C34, Bronchus and lung      Cancer   0.004 (0.066)   \n",
       "145               Regimen GI-GEMCISP (BILIARY)   Treatment   0.075 (0.264)   \n",
       "53                        Eosinophil (x10e9/L)  Laboratory   0.156 (0.143)   \n",
       "84                ESAS Depression Score Change    Symptoms  -0.001 (1.127)   \n",
       "139               Regimen GI-GEM 40MG/M2 2X/WK   Treatment   0.026 (0.160)   \n",
       "\n",
       "     Missingness (%)  \n",
       "109             72.5  \n",
       "153              0.0  \n",
       "126              0.0  \n",
       "55              48.5  \n",
       "85              32.3  \n",
       "32               0.0  \n",
       "145              0.0  \n",
       "53              65.9  \n",
       "84              32.3  \n",
       "139              0.0  "
      ]
     },
     "execution_count": 18,
     "metadata": {},
     "output_type": "execute_result"
    }
   ],
   "source": [
    "# Feature Characteristics\n",
    "x = prep.ohe.encode(df.loc[X_train.index].copy(), verbose=False) # get original (non-normalized, non-imputed) data one-hot encoded\n",
    "x = x[[col for col in x.columns if not (col in metainfo.columns or col.startswith('target'))]]\n",
    "feature_summary(x, save_path='result/tables/feature_summary_ED_trt_anchored.csv').sample(10, random_state=42)"
   ]
  },
  {
   "cell_type": "markdown",
   "metadata": {},
   "source": [
    "# Train Model - Quick and Dirty"
   ]
  },
  {
   "cell_type": "code",
   "execution_count": 12,
   "metadata": {},
   "outputs": [],
   "source": [
    "targets = Y.columns\n",
    "\n",
    "# LGBM does not like non alphanumeric characters (except for _)\n",
    "for char in ['(', ')', '+', '-', '/', ',']: \n",
    "    X_train.columns = X_train.columns.str.replace(char, '_')\n",
    "    X_valid.columns = X_valid.columns.str.replace(char, '_')\n",
    "    X_test.columns = X_test.columns.str.replace(char, '_')"
   ]
  },
  {
   "cell_type": "code",
   "execution_count": 13,
   "metadata": {},
   "outputs": [],
   "source": [
    "# hyperparameter tuning\n",
    "algs = {\n",
    "    'LR': LogisticRegression,\n",
    "    'XGB': XGBClassifier,\n",
    "    'LGBM': LGBMClassifier\n",
    "}\n",
    "bayesopt_param = {\n",
    "    'LR': {'init_points': 2, 'n_iter': 10}, \n",
    "    'XGB': {'init_points': 15, 'n_iter': 100},\n",
    "    'LGBM': {'init_points': 20, 'n_iter': 200},\n",
    "}\n",
    "model_static_param = {\n",
    "    'LR': {\n",
    "        'penalty': 'l2', \n",
    "        'class_weight': 'balanced', \n",
    "        'max_iter': 2000,\n",
    "        'random_state': 42\n",
    "    },\n",
    "    'XGB': {\n",
    "        'random_state': 42\n",
    "    },\n",
    "    'LGBM': {\n",
    "        'random_state': 42,\n",
    "        'verbosity': -1\n",
    "    }\n",
    "}\n",
    "model_tuning_param = {\n",
    "    'LR': {\n",
    "        'C': (0.0001, 1)\n",
    "    },\n",
    "    'XGB': {\n",
    "        'n_estimators': (50, 200),\n",
    "        'max_depth': (3, 7),\n",
    "        'learning_rate': (0.01, 0.3),\n",
    "        'min_split_loss': (0, 0.5),\n",
    "        'min_child_weight': (6, 100),\n",
    "        'reg_lambda': (0, 1),\n",
    "        'reg_alpha': (0, 1000)\n",
    "    },\n",
    "    'LGBM': {\n",
    "        'n_estimators': (50, 200),\n",
    "        'max_depth': (3, 7),\n",
    "        'learning_rate': (0.01, 0.3),\n",
    "        'num_leaves': (20, 40),\n",
    "        'min_data_in_leaf': (6, 30),\n",
    "        'feature_fraction': (0.5, 1),\n",
    "        'bagging_fraction': (0.5, 1),\n",
    "        'bagging_freq': (0, 10),\n",
    "        'reg_lambda': (0, 1),\n",
    "        'reg_alpha': (0, 1000)\n",
    "    }\n",
    "}\n",
    "def convert_params(params):\n",
    "    # convert necessary hyperparams to integers\n",
    "    for param in ['n_estimators', 'max_depth', 'num_leaves', 'min_data_in_leaf', 'min_child_weight', 'bagging_freq']:\n",
    "        if param in params: params[param] = int(params[param])\n",
    "    return params\n",
    "\n",
    "def eval_func(alg, data, **kwargs):\n",
    "    train_X, train_Y, valid_X, valid_Y = data\n",
    "    kwargs = convert_params(kwargs)\n",
    "    model = algs[alg](**kwargs, **model_static_param[alg])\n",
    "    model.fit(train_X, train_Y)\n",
    "    assert model.classes_[1] == 1 # positive class is at index 1\n",
    "    pred = model.predict_proba(valid_X)[: ,1]\n",
    "    return roc_auc_score(valid_Y, pred)"
   ]
  },
  {
   "cell_type": "code",
   "execution_count": 73,
   "metadata": {},
   "outputs": [],
   "source": [
    "%%capture\n",
    "best_params = {}\n",
    "for target in targets:\n",
    "    for alg, optim_config in bayesopt_param.items():\n",
    "        hyperparam_config = model_tuning_param[alg]\n",
    "        data = (X_train, Y_train[target], X_valid, Y_valid[target])\n",
    "        bo = BayesianOptimization(\n",
    "            f=partial(eval_func, alg=alg, data=data),\n",
    "            pbounds=hyperparam_config,\n",
    "            verbose=2,\n",
    "            random_state=42\n",
    "        )\n",
    "        bo.maximize(**optim_config)\n",
    "        best_param = bo.max['params']\n",
    "        best_param = convert_params(best_param)\n",
    "        best_params[f'{alg}_{target}'] = best_param\n",
    "save_pickle(best_params, save_dir='./models', filename='best_params')"
   ]
  },
  {
   "cell_type": "code",
   "execution_count": 14,
   "metadata": {},
   "outputs": [],
   "source": [
    "best_params = load_pickle('./models', 'best_params')\n",
    "models = defaultdict(dict)\n",
    "for target in targets:\n",
    "    for alg in algs:\n",
    "        model = algs[alg](**best_params[f'{alg}_{target}'], **model_static_param[alg])\n",
    "        model.fit(X_train, Y_train[target])\n",
    "        models[alg][target] = model"
   ]
  },
  {
   "cell_type": "code",
   "execution_count": 15,
   "metadata": {},
   "outputs": [],
   "source": [
    "def evaluate(model, X, Y):\n",
    "    result = {}\n",
    "    for target, label in Y.items():\n",
    "        # check model.classes_ to confirm prediction of positive label is at index 1\n",
    "        pred = model[target].predict_proba(X)[: ,1]\n",
    "        auprc = average_precision_score(label, pred)\n",
    "        auroc = roc_auc_score(label, pred)\n",
    "        result[target] = {'AUPRC': auprc, 'AUROC': auroc}\n",
    "    return pd.DataFrame(result)"
   ]
  },
  {
   "cell_type": "code",
   "execution_count": 49,
   "metadata": {},
   "outputs": [
    {
     "data": {
      "text/html": [
       "<div>\n",
       "<style scoped>\n",
       "    .dataframe tbody tr th:only-of-type {\n",
       "        vertical-align: middle;\n",
       "    }\n",
       "\n",
       "    .dataframe tbody tr th {\n",
       "        vertical-align: top;\n",
       "    }\n",
       "\n",
       "    .dataframe thead tr th {\n",
       "        text-align: left;\n",
       "    }\n",
       "</style>\n",
       "<table border=\"1\" class=\"dataframe\">\n",
       "  <thead>\n",
       "    <tr>\n",
       "      <th></th>\n",
       "      <th colspan=\"2\" halign=\"left\">LR</th>\n",
       "      <th colspan=\"2\" halign=\"left\">XGB</th>\n",
       "      <th colspan=\"2\" halign=\"left\">LGBM</th>\n",
       "    </tr>\n",
       "    <tr>\n",
       "      <th></th>\n",
       "      <th>AUPRC</th>\n",
       "      <th>AUROC</th>\n",
       "      <th>AUPRC</th>\n",
       "      <th>AUROC</th>\n",
       "      <th>AUPRC</th>\n",
       "      <th>AUROC</th>\n",
       "    </tr>\n",
       "  </thead>\n",
       "  <tbody>\n",
       "    <tr>\n",
       "      <th>ED_visit</th>\n",
       "      <td>0.245577</td>\n",
       "      <td>0.753183</td>\n",
       "      <td>0.246744</td>\n",
       "      <td>0.780887</td>\n",
       "      <td>0.251515</td>\n",
       "      <td>0.783063</td>\n",
       "    </tr>\n",
       "  </tbody>\n",
       "</table>\n",
       "</div>"
      ],
      "text/plain": [
       "                LR                 XGB                LGBM          \n",
       "             AUPRC     AUROC     AUPRC     AUROC     AUPRC     AUROC\n",
       "ED_visit  0.245577  0.753183  0.246744  0.780887  0.251515  0.783063"
      ]
     },
     "execution_count": 49,
     "metadata": {},
     "output_type": "execute_result"
    }
   ],
   "source": [
    "pd.concat([evaluate(model, X_valid, Y_valid) for alg, model in models.items()], keys=models.keys()).T"
   ]
  },
  {
   "cell_type": "code",
   "execution_count": 50,
   "metadata": {},
   "outputs": [
    {
     "data": {
      "text/html": [
       "<div>\n",
       "<style scoped>\n",
       "    .dataframe tbody tr th:only-of-type {\n",
       "        vertical-align: middle;\n",
       "    }\n",
       "\n",
       "    .dataframe tbody tr th {\n",
       "        vertical-align: top;\n",
       "    }\n",
       "\n",
       "    .dataframe thead tr th {\n",
       "        text-align: left;\n",
       "    }\n",
       "</style>\n",
       "<table border=\"1\" class=\"dataframe\">\n",
       "  <thead>\n",
       "    <tr>\n",
       "      <th></th>\n",
       "      <th colspan=\"2\" halign=\"left\">LR</th>\n",
       "      <th colspan=\"2\" halign=\"left\">XGB</th>\n",
       "      <th colspan=\"2\" halign=\"left\">LGBM</th>\n",
       "    </tr>\n",
       "    <tr>\n",
       "      <th></th>\n",
       "      <th>AUPRC</th>\n",
       "      <th>AUROC</th>\n",
       "      <th>AUPRC</th>\n",
       "      <th>AUROC</th>\n",
       "      <th>AUPRC</th>\n",
       "      <th>AUROC</th>\n",
       "    </tr>\n",
       "  </thead>\n",
       "  <tbody>\n",
       "    <tr>\n",
       "      <th>ED_visit</th>\n",
       "      <td>0.174511</td>\n",
       "      <td>0.637605</td>\n",
       "      <td>0.186467</td>\n",
       "      <td>0.677193</td>\n",
       "      <td>0.189465</td>\n",
       "      <td>0.668737</td>\n",
       "    </tr>\n",
       "  </tbody>\n",
       "</table>\n",
       "</div>"
      ],
      "text/plain": [
       "                LR                 XGB                LGBM          \n",
       "             AUPRC     AUROC     AUPRC     AUROC     AUPRC     AUROC\n",
       "ED_visit  0.174511  0.637605  0.186467  0.677193  0.189465  0.668737"
      ]
     },
     "execution_count": 50,
     "metadata": {},
     "output_type": "execute_result"
    }
   ],
   "source": [
    "pd.concat([evaluate(model, X_test, Y_test) for alg, model in models.items()], keys=models.keys()).T"
   ]
  },
  {
   "cell_type": "code",
   "execution_count": 53,
   "metadata": {},
   "outputs": [],
   "source": [
    "save_pickle(models['XGB'][target], './models', 'XGB_ED_visit')"
   ]
  },
  {
   "cell_type": "markdown",
   "metadata": {},
   "source": [
    "# Scratch Notes"
   ]
  },
  {
   "cell_type": "markdown",
   "metadata": {},
   "source": [
    "### Threshold that achieves 10% alarm rate"
   ]
  },
  {
   "cell_type": "code",
   "execution_count": 33,
   "metadata": {},
   "outputs": [
    {
     "data": {
      "text/plain": [
       "0.09982139313355824"
      ]
     },
     "execution_count": 33,
     "metadata": {},
     "output_type": "execute_result"
    }
   ],
   "source": [
    "# compute threshold that achieves 10% alarm rate\n",
    "import numpy as np\n",
    "model = load_pickle('./models', 'XGB_ED_visit')\n",
    "pred = model.predict_proba(X_test)[: ,1]\n",
    "pred_threshold = 0.1957\n",
    "np.mean(pred > pred_threshold)"
   ]
  },
  {
   "cell_type": "markdown",
   "metadata": {},
   "source": [
    "### Results prior to removing the drug, morphology features and restricting to GI patients only"
   ]
  },
  {
   "cell_type": "code",
   "execution_count": 24,
   "metadata": {},
   "outputs": [
    {
     "data": {
      "text/html": [
       "<div>\n",
       "<style scoped>\n",
       "    .dataframe tbody tr th:only-of-type {\n",
       "        vertical-align: middle;\n",
       "    }\n",
       "\n",
       "    .dataframe tbody tr th {\n",
       "        vertical-align: top;\n",
       "    }\n",
       "\n",
       "    .dataframe thead th {\n",
       "        text-align: right;\n",
       "    }\n",
       "</style>\n",
       "<table border=\"1\" class=\"dataframe\">\n",
       "  <thead>\n",
       "    <tr style=\"text-align: right;\">\n",
       "      <th></th>\n",
       "      <th>ED_visit</th>\n",
       "    </tr>\n",
       "  </thead>\n",
       "  <tbody>\n",
       "    <tr>\n",
       "      <th>AUPRC</th>\n",
       "      <td>0.209723</td>\n",
       "    </tr>\n",
       "    <tr>\n",
       "      <th>AUROC</th>\n",
       "      <td>0.749193</td>\n",
       "    </tr>\n",
       "  </tbody>\n",
       "</table>\n",
       "</div>"
      ],
      "text/plain": [
       "       ED_visit\n",
       "AUPRC  0.209723\n",
       "AUROC  0.749193"
      ]
     },
     "execution_count": 24,
     "metadata": {},
     "output_type": "execute_result"
    }
   ],
   "source": [
    "evaluate(models['XGB'][target], X_valid, Y_valid)"
   ]
  },
  {
   "cell_type": "code",
   "execution_count": 25,
   "metadata": {},
   "outputs": [
    {
     "data": {
      "text/html": [
       "<div>\n",
       "<style scoped>\n",
       "    .dataframe tbody tr th:only-of-type {\n",
       "        vertical-align: middle;\n",
       "    }\n",
       "\n",
       "    .dataframe tbody tr th {\n",
       "        vertical-align: top;\n",
       "    }\n",
       "\n",
       "    .dataframe thead th {\n",
       "        text-align: right;\n",
       "    }\n",
       "</style>\n",
       "<table border=\"1\" class=\"dataframe\">\n",
       "  <thead>\n",
       "    <tr style=\"text-align: right;\">\n",
       "      <th></th>\n",
       "      <th>ED_visit</th>\n",
       "    </tr>\n",
       "  </thead>\n",
       "  <tbody>\n",
       "    <tr>\n",
       "      <th>AUPRC</th>\n",
       "      <td>0.189172</td>\n",
       "    </tr>\n",
       "    <tr>\n",
       "      <th>AUROC</th>\n",
       "      <td>0.698418</td>\n",
       "    </tr>\n",
       "  </tbody>\n",
       "</table>\n",
       "</div>"
      ],
      "text/plain": [
       "       ED_visit\n",
       "AUPRC  0.189172\n",
       "AUROC  0.698418"
      ]
     },
     "execution_count": 25,
     "metadata": {},
     "output_type": "execute_result"
    }
   ],
   "source": [
    "evaluate(models['XGB'][target], X_test, Y_test)"
   ]
  }
 ],
 "metadata": {
  "kernelspec": {
   "display_name": "uhn",
   "language": "python",
   "name": "python3"
  },
  "language_info": {
   "codemirror_mode": {
    "name": "ipython",
    "version": 3
   },
   "file_extension": ".py",
   "mimetype": "text/x-python",
   "name": "python",
   "nbconvert_exporter": "python",
   "pygments_lexer": "ipython3",
   "version": "3.11.8"
  }
 },
 "nbformat": 4,
 "nbformat_minor": 2
}
