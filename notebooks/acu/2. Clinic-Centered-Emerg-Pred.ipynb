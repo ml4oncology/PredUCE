{
 "cells": [
  {
   "cell_type": "markdown",
   "metadata": {},
   "source": [
    "# Predicting emergency department visits anchored on clinic dates\n",
    "---\n",
    "## Background\n",
    "Before, we built a model to predict emergency department (ED) visits anchored on treatment dates.\n",
    "\n",
    "The problem with that is the primary physicians do not interact with their patients during their treatment sessions. They only meet during their clinic visits. That is the best time for the model to nudge the physician for an intervention. Thus, we now want to build a model to predict patient's risk of ED visits prior to clinic date instead of prior to treatment session.\n",
    "\n",
    "---"
   ]
  },
  {
   "cell_type": "code",
   "execution_count": 1,
   "metadata": {},
   "outputs": [],
   "source": [
    "%%capture\n",
    "%cd ../../\n",
    "%load_ext autoreload\n",
    "%autoreload 2"
   ]
  },
  {
   "cell_type": "code",
   "execution_count": 146,
   "metadata": {},
   "outputs": [],
   "source": [
    "import logging\n",
    "\n",
    "import numpy as np\n",
    "import pandas as pd\n",
    "from datetime import datetime\n",
    "\n",
    "from ml_common.util import get_excluded_numbers, load_pickle, save_pickle\n",
    "\n",
    "from preduce.acu.eval import evaluate_valid, evaluate_test\n",
    "from preduce.acu.pipeline import PrepACUData\n",
    "from preduce.acu.train import train_models, tune_params\n",
    "from preduce.prepare.prep import anchor_features_to_clinic_dates\n",
    "from preduce.summarize import feature_summary, get_label_distribution\n",
    "from preduce.util import load_clinic_dates\n",
    "\n",
    "pd.set_option('display.max_rows', 150)\n",
    "\n",
    "logging.basicConfig(\n",
    "    level=logging.INFO, \n",
    "    format='%(levelname)s:%(message)s', \n",
    ")"
   ]
  },
  {
   "cell_type": "markdown",
   "metadata": {},
   "source": [
    "## Load clinic data"
   ]
  },
  {
   "cell_type": "code",
   "execution_count": 3,
   "metadata": {},
   "outputs": [
    {
     "name": "stdout",
     "output_type": "stream",
     "text": [
      "Removing 123 visits that \"occured before\" 2006-01-05\n"
     ]
    }
   ],
   "source": [
    "clinic = load_clinic_dates(data_dir='./data/processed')\n",
    "treatment = pd.read_parquet('./data/interim/treatment.parquet.gzip')"
   ]
  },
  {
   "cell_type": "code",
   "execution_count": 4,
   "metadata": {},
   "outputs": [],
   "source": [
    "# Filter the clinic dates\n",
    "# METHOD1: pd.merge - pros readability, cons maybe performance?\n",
    "df = pd.merge(clinic, treatment[['mrn', 'treatment_date']], on='mrn', how='inner')\n",
    "df = df.rename(columns={'treatment_date': 'next_treatment_date'})\n",
    "\n",
    "# filter out clinic dates where the next treatment session does not occur within 5 days\n",
    "mask = df['next_treatment_date'].between(df['clinic_date'], df['clinic_date'] + pd.Timedelta(days=5))\n",
    "df = df[mask]\n",
    "\n",
    "# filter out clinic dates where notes were uploaded after the next treatment session\n",
    "mask = df['upload_date'] < df['next_treatment_date']\n",
    "df = df[mask]\n",
    "\n",
    "# remove duplicates from the merging\n",
    "df = df.sort_values(by=['mrn', 'next_treatment_date'])\n",
    "df = df.drop_duplicates(subset=['mrn', 'clinic_date'], keep='first')"
   ]
  },
  {
   "cell_type": "code",
   "execution_count": 5,
   "metadata": {},
   "outputs": [],
   "source": [
    "df = df.sort_values(by=['mrn', 'clinic_date'])\n",
    "df.to_csv('./data/processed/assessment_dates.csv', index=False)"
   ]
  },
  {
   "cell_type": "markdown",
   "metadata": {},
   "source": [
    "## Anchor features to clinic visits"
   ]
  },
  {
   "cell_type": "code",
   "execution_count": 6,
   "metadata": {},
   "outputs": [],
   "source": [
    "anchor_features_to_clinic_dates(script_path='../make-clinical-dataset/scripts')"
   ]
  },
  {
   "cell_type": "markdown",
   "metadata": {},
   "source": [
    "## Load feature data"
   ]
  },
  {
   "cell_type": "code",
   "execution_count": 93,
   "metadata": {},
   "outputs": [],
   "source": [
    "df = pd.read_parquet('./data/processed/clinic_centered_feature_dataset.parquet.gzip')\n",
    "df['assessment_date'] = df['clinic_date']\n",
    "emerg = pd.read_parquet('./data/interim/emergency_room_visit.parquet.gzip')"
   ]
  },
  {
   "cell_type": "markdown",
   "metadata": {},
   "source": [
    "## Prepare Data"
   ]
  },
  {
   "cell_type": "code",
   "execution_count": 94,
   "metadata": {},
   "outputs": [
    {
     "name": "stderr",
     "output_type": "stream",
     "text": [
      "INFO:Removing 895 patients and 8891 sessions which are the first clinic visits\n"
     ]
    }
   ],
   "source": [
    "# remove the first clinic visit before starting the treatment\n",
    "# we do not want the model to make an assessment when the clinician has never met the patient yet\n",
    "mask = df['treatment_date'].notnull()\n",
    "# get_nmissing(df[~mask])\n",
    "get_excluded_numbers(df, mask, context=' which are the first clinic visits')\n",
    "df = df[mask]"
   ]
  },
  {
   "cell_type": "code",
   "execution_count": 95,
   "metadata": {},
   "outputs": [
    {
     "name": "stderr",
     "output_type": "stream",
     "text": [
      "Getting change since last session...: 100%|██████████| 7052/7052 [00:02<00:00, 3133.53it/s]\n",
      "INFO:Removing 3606 patients and 15438 sessions before 2014-01-01 and after 2019-12-31\n",
      "INFO:Removing the following features for drugs given less than 10 times: ['%_ideal_dose_given_DURVALUMAB', '%_ideal_dose_given_RALTITREXED', '%_ideal_dose_given_IPILIMUMAB', '%_ideal_dose_given_CAPECITABINE', '%_ideal_dose_given_ERLOTINIB']\n",
      "INFO:Dropping the following 13 features for missingness over 80%: ['basophil', 'esas_appetite_change', 'esas_drowsiness_change', 'prothrombin_time_international_normalized_ratio', 'activated_partial_thromboplastin_time', 'carbohydrate_antigen_19-9', 'mean_corpuscular_hemoglobin_change', 'esas_pain_change', 'esas_well_being_change', 'carcinoembryonic_antigen', 'esas_constipation', 'esas_diarrhea', 'esas_vomiting']\n",
      "INFO:Reassigning the following 6 indicators with less than 6 patients as other: ['cancer_site_C00', 'cancer_site_C14', 'cancer_site_C26', 'cancer_site_C48', 'cancer_site_C62', 'cancer_site_C76']\n",
      "INFO:Reassigning the following 62 indicators with less than 6 patients as other: ['morphology_800', 'morphology_805', 'morphology_809', 'morphology_812', 'morphology_815', 'morphology_818', 'morphology_820', 'morphology_822', 'morphology_829', 'morphology_831', 'morphology_832', 'morphology_833', 'morphology_836', 'morphology_840', 'morphology_843', 'morphology_844', 'morphology_845', 'morphology_847', 'morphology_851', 'morphology_852', 'morphology_854', 'morphology_857', 'morphology_868', 'morphology_869', 'morphology_871', 'morphology_872', 'morphology_874', 'morphology_877', 'morphology_880', 'morphology_881', 'morphology_882', 'morphology_883', 'morphology_885', 'morphology_889', 'morphology_890', 'morphology_891', 'morphology_892', 'morphology_893', 'morphology_894', 'morphology_896', 'morphology_897', 'morphology_898', 'morphology_899', 'morphology_904', 'morphology_906', 'morphology_907', 'morphology_908', 'morphology_912', 'morphology_913', 'morphology_914', 'morphology_915', 'morphology_917', 'morphology_918', 'morphology_922', 'morphology_924', 'morphology_926', 'morphology_927', 'morphology_937', 'morphology_950', 'morphology_952', 'morphology_954', 'morphology_958']\n"
     ]
    }
   ],
   "source": [
    "prep = PrepACUData()\n",
    "df = prep.preprocess(df, emerg)"
   ]
  },
  {
   "cell_type": "code",
   "execution_count": 96,
   "metadata": {},
   "outputs": [
    {
     "name": "stderr",
     "output_type": "stream",
     "text": [
      "INFO:Removing 1815 patients and 8179 sessions not from GI department\n"
     ]
    }
   ],
   "source": [
    "# To align with EPIC system for silent deployment\n",
    "# 1. remove drug and morphology features\n",
    "# 2. restrict to GI patients\n",
    "# This will be temporary\n",
    "cols = df.columns\n",
    "cols = cols[~cols.str.contains('morphology|%_ideal_dose')]\n",
    "df = df[cols]\n",
    "\n",
    "mask = df['regimen'].str.startswith('GI-')\n",
    "get_excluded_numbers(df, mask, context=' not from GI department')\n",
    "df = df[mask]"
   ]
  },
  {
   "cell_type": "code",
   "execution_count": 97,
   "metadata": {},
   "outputs": [
    {
     "name": "stderr",
     "output_type": "stream",
     "text": [
      "INFO:Removing 0 patients and 510 sessions that occured after 2018-02-01 in the development cohort\n",
      "INFO:Removing 2 patients and 45 sessions in which patient had a target event in less than 2 days.\n",
      "INFO:One-hot encoding training data\n",
      "INFO:Reassigning the following 16 indicators with less than 6 patients as other: ['regimen_GI-CISPFU + TRAS(LOAD)', 'regimen_GI-CISPFU ANAL', 'regimen_GI-DOXO', 'regimen_GI-EOX', 'regimen_GI-FOLFNALIRI', 'regimen_GI-FOLFNALIRI (COMP)', 'regimen_GI-FOLFOX (GASTRIC)', 'regimen_GI-FUFA C3 (GASTRIC)', 'regimen_GI-FUFA-5 DAYS', 'regimen_GI-GEM D1,8 + CAPECIT', 'regimen_GI-GEMCAP', 'regimen_GI-GEMFU (BILIARY)', 'regimen_GI-IRINO 4-WEEKLY', 'regimen_GI-IRINO Q3W', 'regimen_GI-PACLI WEEKLY', 'regimen_GI-PACLITAXEL']\n",
      "INFO:Reassigning the following 0 indicators with less than 6 patients as other: []\n",
      "INFO:One-hot encoding testing data\n",
      "INFO:Reassigning the following regimen indicator columns that did not exist in train set as other:\n",
      "regimen_GI-CISPFU + TRAS(LOAD)     3\n",
      "regimen_GI-FOLFIRI+PANITUMUMAB     5\n",
      "regimen_GI-FOLFNALIRI (COMP)      17\n",
      "regimen_GI-FOLFOX (GASTRIC)       40\n",
      "regimen_GI-FUFA C3 (GASTRIC)       1\n",
      "regimen_GI-GEMCAP                 16\n",
      "regimen_GI-PACLI WEEKLY            3\n",
      "dtype: int64\n"
     ]
    }
   ],
   "source": [
    "X, Y, metainfo = prep.prepare(df, event_name='ED_visit')\n",
    "df = df.loc[X.index]\n",
    "# clean up Y\n",
    "for col in ['target_CEDIS_complaint', 'target_CTAS_score']:\n",
    "    metainfo[col] = Y.pop(col)\n",
    "Y.columns = Y.columns.str.replace('target_', '')"
   ]
  },
  {
   "cell_type": "code",
   "execution_count": 101,
   "metadata": {},
   "outputs": [],
   "source": [
    "train_mask, test_mask = metainfo['split'] == 'Train', metainfo['split'] == 'Test'\n",
    "X_train, X_test = X[train_mask], X[test_mask]\n",
    "Y_train, Y_test = Y[train_mask], Y[test_mask]\n",
    "metainfo_train, metainfo_test = metainfo[train_mask], metainfo[test_mask]"
   ]
  },
  {
   "cell_type": "code",
   "execution_count": 99,
   "metadata": {},
   "outputs": [],
   "source": [
    "# Save the data prep for silent deployment\n",
    "# So we transform new incoming data using the original data preparer\n",
    "# save_pickle(prep.scaler, './result', 'scaler_ED')\n",
    "# save_pickle(prep.imp.imputer, './result', 'imputer_ED')\n",
    "# save_pickle(prep.clip_thresh, './result', 'clip_thresh_ED')\n",
    "# save_pickle(prep.ohe.final_columns, './result', 'encoded_cols_ED')\n",
    "\n",
    "# X.to_csv('./data/debug/to_muammar/X.csv', index=False)\n",
    "# Y.to_csv('./data/debug/to_muammar/Y.csv', index=False)\n",
    "# metainfo.to_csv('./data/debug/to_muammar/metainfo.csv', index=False)\n",
    "# df.loc[X.index].to_csv('./data/debug/to_muammar/orig.csv', index=False)"
   ]
  },
  {
   "cell_type": "markdown",
   "metadata": {},
   "source": [
    "## Describe Data"
   ]
  },
  {
   "cell_type": "code",
   "execution_count": 16,
   "metadata": {},
   "outputs": [
    {
     "name": "stdout",
     "output_type": "stream",
     "text": [
      "\n",
      "split               Test  Train  Total\n",
      "Number of sessions  1102   7247   8349\n",
      "Number of patients   344   1285   1629\n"
     ]
    }
   ],
   "source": [
    "count = pd.DataFrame({\n",
    "    'Number of sessions': metainfo.groupby('split').apply(len, include_groups=False), \n",
    "    'Number of patients': metainfo.groupby('split')['mrn'].nunique()}\n",
    ").T\n",
    "count['Total'] = count.sum(axis=1)\n",
    "print(f'\\n{count.to_string()}')"
   ]
  },
  {
   "cell_type": "code",
   "execution_count": 17,
   "metadata": {},
   "outputs": [
    {
     "data": {
      "text/html": [
       "<div>\n",
       "<style scoped>\n",
       "    .dataframe tbody tr th:only-of-type {\n",
       "        vertical-align: middle;\n",
       "    }\n",
       "\n",
       "    .dataframe tbody tr th {\n",
       "        vertical-align: top;\n",
       "    }\n",
       "\n",
       "    .dataframe thead tr th {\n",
       "        text-align: left;\n",
       "    }\n",
       "</style>\n",
       "<table border=\"1\" class=\"dataframe\">\n",
       "  <thead>\n",
       "    <tr>\n",
       "      <th></th>\n",
       "      <th colspan=\"2\" halign=\"left\">Total</th>\n",
       "      <th colspan=\"2\" halign=\"left\">Test</th>\n",
       "      <th colspan=\"2\" halign=\"left\">Train</th>\n",
       "    </tr>\n",
       "    <tr>\n",
       "      <th>ED_visit</th>\n",
       "      <th>False</th>\n",
       "      <th>True</th>\n",
       "      <th>False</th>\n",
       "      <th>True</th>\n",
       "      <th>False</th>\n",
       "      <th>True</th>\n",
       "    </tr>\n",
       "  </thead>\n",
       "  <tbody>\n",
       "    <tr>\n",
       "      <th>ED_visit</th>\n",
       "      <td>7486</td>\n",
       "      <td>863</td>\n",
       "      <td>956</td>\n",
       "      <td>146</td>\n",
       "      <td>6530</td>\n",
       "      <td>717</td>\n",
       "    </tr>\n",
       "  </tbody>\n",
       "</table>\n",
       "</div>"
      ],
      "text/plain": [
       "         Total        Test       Train      \n",
       "ED_visit False True  False True  False True \n",
       "ED_visit  7486   863   956   146  6530   717"
      ]
     },
     "execution_count": 17,
     "metadata": {},
     "output_type": "execute_result"
    }
   ],
   "source": [
    "get_label_distribution(Y, metainfo, with_respect_to='sessions')"
   ]
  },
  {
   "cell_type": "code",
   "execution_count": 18,
   "metadata": {},
   "outputs": [
    {
     "data": {
      "text/html": [
       "<div>\n",
       "<style scoped>\n",
       "    .dataframe tbody tr th:only-of-type {\n",
       "        vertical-align: middle;\n",
       "    }\n",
       "\n",
       "    .dataframe tbody tr th {\n",
       "        vertical-align: top;\n",
       "    }\n",
       "\n",
       "    .dataframe thead tr th {\n",
       "        text-align: left;\n",
       "    }\n",
       "</style>\n",
       "<table border=\"1\" class=\"dataframe\">\n",
       "  <thead>\n",
       "    <tr>\n",
       "      <th></th>\n",
       "      <th colspan=\"2\" halign=\"left\">Total</th>\n",
       "      <th colspan=\"2\" halign=\"left\">Test</th>\n",
       "      <th colspan=\"2\" halign=\"left\">Train</th>\n",
       "    </tr>\n",
       "    <tr>\n",
       "      <th></th>\n",
       "      <th>1</th>\n",
       "      <th>0</th>\n",
       "      <th>1</th>\n",
       "      <th>0</th>\n",
       "      <th>1</th>\n",
       "      <th>0</th>\n",
       "    </tr>\n",
       "  </thead>\n",
       "  <tbody>\n",
       "    <tr>\n",
       "      <th>ED_visit</th>\n",
       "      <td>403</td>\n",
       "      <td>1226</td>\n",
       "      <td>73</td>\n",
       "      <td>271</td>\n",
       "      <td>330</td>\n",
       "      <td>955</td>\n",
       "    </tr>\n",
       "  </tbody>\n",
       "</table>\n",
       "</div>"
      ],
      "text/plain": [
       "         Total       Test      Train     \n",
       "             1     0    1    0     1    0\n",
       "ED_visit   403  1226   73  271   330  955"
      ]
     },
     "execution_count": 18,
     "metadata": {},
     "output_type": "execute_result"
    }
   ],
   "source": [
    "get_label_distribution(Y, metainfo, with_respect_to='patients')"
   ]
  },
  {
   "cell_type": "code",
   "execution_count": 19,
   "metadata": {},
   "outputs": [
    {
     "data": {
      "text/html": [
       "<div>\n",
       "<style scoped>\n",
       "    .dataframe tbody tr th:only-of-type {\n",
       "        vertical-align: middle;\n",
       "    }\n",
       "\n",
       "    .dataframe tbody tr th {\n",
       "        vertical-align: top;\n",
       "    }\n",
       "\n",
       "    .dataframe thead th {\n",
       "        text-align: right;\n",
       "    }\n",
       "</style>\n",
       "<table border=\"1\" class=\"dataframe\">\n",
       "  <thead>\n",
       "    <tr style=\"text-align: right;\">\n",
       "      <th></th>\n",
       "      <th>Features</th>\n",
       "      <th>Group</th>\n",
       "      <th>Mean (SD)</th>\n",
       "      <th>Missingness (%)</th>\n",
       "    </tr>\n",
       "  </thead>\n",
       "  <tbody>\n",
       "    <tr>\n",
       "      <th>19</th>\n",
       "      <td>Topography ICD-0-3 C15, Esophagus</td>\n",
       "      <td>Cancer</td>\n",
       "      <td>0.063 (0.243)</td>\n",
       "      <td>0.0</td>\n",
       "    </tr>\n",
       "    <tr>\n",
       "      <th>115</th>\n",
       "      <td>Total Bilirubin Change</td>\n",
       "      <td>Laboratory</td>\n",
       "      <td>-0.013 (1.505)</td>\n",
       "      <td>36.0</td>\n",
       "    </tr>\n",
       "    <tr>\n",
       "      <th>78</th>\n",
       "      <td>Visit Month Cos</td>\n",
       "      <td>Treatment</td>\n",
       "      <td>0.035 (0.708)</td>\n",
       "      <td>0.0</td>\n",
       "    </tr>\n",
       "    <tr>\n",
       "      <th>38</th>\n",
       "      <td>ESAS Fatigue Score</td>\n",
       "      <td>Symptoms</td>\n",
       "      <td>3.353 (2.485)</td>\n",
       "      <td>18.3</td>\n",
       "    </tr>\n",
       "    <tr>\n",
       "      <th>37</th>\n",
       "      <td>ESAS Pain Score</td>\n",
       "      <td>Symptoms</td>\n",
       "      <td>1.968 (2.322)</td>\n",
       "      <td>18.2</td>\n",
       "    </tr>\n",
       "    <tr>\n",
       "      <th>59</th>\n",
       "      <td>Lymphocyte</td>\n",
       "      <td>Laboratory</td>\n",
       "      <td>1.312 (1.919)</td>\n",
       "      <td>49.5</td>\n",
       "    </tr>\n",
       "    <tr>\n",
       "      <th>22</th>\n",
       "      <td>Topography ICD-0-3 C18, Colon</td>\n",
       "      <td>Cancer</td>\n",
       "      <td>0.218 (0.413)</td>\n",
       "      <td>0.0</td>\n",
       "    </tr>\n",
       "    <tr>\n",
       "      <th>50</th>\n",
       "      <td>Aspartate Aminotransferase (U/L)</td>\n",
       "      <td>Laboratory</td>\n",
       "      <td>28.741 (23.547)</td>\n",
       "      <td>53.3</td>\n",
       "    </tr>\n",
       "    <tr>\n",
       "      <th>0</th>\n",
       "      <td>Height (cm)</td>\n",
       "      <td>Demographic</td>\n",
       "      <td>167.963 (9.473)</td>\n",
       "      <td>0.0</td>\n",
       "    </tr>\n",
       "    <tr>\n",
       "      <th>54</th>\n",
       "      <td>Eosinophil (x10e9/L)</td>\n",
       "      <td>Laboratory</td>\n",
       "      <td>0.159 (0.141)</td>\n",
       "      <td>66.5</td>\n",
       "    </tr>\n",
       "  </tbody>\n",
       "</table>\n",
       "</div>"
      ],
      "text/plain": [
       "                              Features        Group        Mean (SD)  \\\n",
       "19   Topography ICD-0-3 C15, Esophagus       Cancer    0.063 (0.243)   \n",
       "115             Total Bilirubin Change   Laboratory   -0.013 (1.505)   \n",
       "78                     Visit Month Cos    Treatment    0.035 (0.708)   \n",
       "38                  ESAS Fatigue Score     Symptoms    3.353 (2.485)   \n",
       "37                     ESAS Pain Score     Symptoms    1.968 (2.322)   \n",
       "59                          Lymphocyte   Laboratory    1.312 (1.919)   \n",
       "22       Topography ICD-0-3 C18, Colon       Cancer    0.218 (0.413)   \n",
       "50    Aspartate Aminotransferase (U/L)   Laboratory  28.741 (23.547)   \n",
       "0                          Height (cm)  Demographic  167.963 (9.473)   \n",
       "54                Eosinophil (x10e9/L)   Laboratory    0.159 (0.141)   \n",
       "\n",
       "     Missingness (%)  \n",
       "19               0.0  \n",
       "115             36.0  \n",
       "78               0.0  \n",
       "38              18.3  \n",
       "37              18.2  \n",
       "59              49.5  \n",
       "22               0.0  \n",
       "50              53.3  \n",
       "0                0.0  \n",
       "54              66.5  "
      ]
     },
     "execution_count": 19,
     "metadata": {},
     "output_type": "execute_result"
    }
   ],
   "source": [
    "# Feature Characteristics\n",
    "x = prep.ohe.encode(df.loc[X_train.index].copy(), verbose=False) # get original (non-normalized, non-imputed) data one-hot encoded\n",
    "x = x[[col for col in x.columns if not (col in metainfo.columns or col.startswith('target'))]]\n",
    "feature_summary(x, save_path='result/tables/feature_summary_ED_clinic_anchored.csv').sample(10, random_state=42)"
   ]
  },
  {
   "cell_type": "markdown",
   "metadata": {},
   "source": [
    "## Train Models"
   ]
  },
  {
   "cell_type": "code",
   "execution_count": 104,
   "metadata": {},
   "outputs": [],
   "source": [
    "# LGBM does not like non alphanumeric characters (except for _)\n",
    "for char in ['(', ')', '+', '-', '/', ',']: \n",
    "    X_train.columns = X_train.columns.str.replace(char, '_')\n",
    "    X_test.columns = X_test.columns.str.replace(char, '_')"
   ]
  },
  {
   "cell_type": "code",
   "execution_count": 12,
   "metadata": {},
   "outputs": [],
   "source": [
    "%%capture\n",
    "# Hyperparameter tuning\n",
    "# TODO: try greater kappa for greater exploration\n",
    "algs = ['LASSO', 'RF', 'Ridge', 'XGB', 'LGBM']\n",
    "best_params = {}\n",
    "for alg in algs:\n",
    "    best_params[alg] = tune_params(alg, X_train, Y_train['ED_visit'], metainfo_train)\n",
    "save_pickle(best_params, './models', 'best_params_clinic_anchored')\n",
    "save_pickle(best_params, './models', f'best_params_clinic_anchored-{datetime.now()}')"
   ]
  },
  {
   "cell_type": "code",
   "execution_count": 147,
   "metadata": {},
   "outputs": [],
   "source": [
    "best_params = load_pickle('./models', 'best_params_clinic_anchored')\n",
    "models = train_models(X_train, Y_train, metainfo_train, best_params)"
   ]
  },
  {
   "cell_type": "markdown",
   "metadata": {},
   "source": [
    "## Model Selection\n",
    "Select final model based on the average performance across the validation folds"
   ]
  },
  {
   "cell_type": "code",
   "execution_count": 148,
   "metadata": {},
   "outputs": [
    {
     "data": {
      "text/html": [
       "<div>\n",
       "<style scoped>\n",
       "    .dataframe tbody tr th:only-of-type {\n",
       "        vertical-align: middle;\n",
       "    }\n",
       "\n",
       "    .dataframe tbody tr th {\n",
       "        vertical-align: top;\n",
       "    }\n",
       "\n",
       "    .dataframe thead tr th {\n",
       "        text-align: left;\n",
       "    }\n",
       "</style>\n",
       "<table border=\"1\" class=\"dataframe\">\n",
       "  <thead>\n",
       "    <tr>\n",
       "      <th></th>\n",
       "      <th colspan=\"2\" halign=\"left\">Ridge</th>\n",
       "      <th colspan=\"2\" halign=\"left\">LASSO</th>\n",
       "      <th colspan=\"2\" halign=\"left\">XGB</th>\n",
       "      <th colspan=\"2\" halign=\"left\">LGBM</th>\n",
       "      <th colspan=\"2\" halign=\"left\">RF</th>\n",
       "    </tr>\n",
       "    <tr>\n",
       "      <th></th>\n",
       "      <th>AUPRC</th>\n",
       "      <th>AUROC</th>\n",
       "      <th>AUPRC</th>\n",
       "      <th>AUROC</th>\n",
       "      <th>AUPRC</th>\n",
       "      <th>AUROC</th>\n",
       "      <th>AUPRC</th>\n",
       "      <th>AUROC</th>\n",
       "      <th>AUPRC</th>\n",
       "      <th>AUROC</th>\n",
       "    </tr>\n",
       "  </thead>\n",
       "  <tbody>\n",
       "    <tr>\n",
       "      <th>ED_visit</th>\n",
       "      <td>0.269367</td>\n",
       "      <td>0.781758</td>\n",
       "      <td>0.272045</td>\n",
       "      <td>0.783733</td>\n",
       "      <td>0.45703</td>\n",
       "      <td>0.865704</td>\n",
       "      <td>0.278372</td>\n",
       "      <td>0.767941</td>\n",
       "      <td>0.36844</td>\n",
       "      <td>0.8111</td>\n",
       "    </tr>\n",
       "  </tbody>\n",
       "</table>\n",
       "</div>"
      ],
      "text/plain": [
       "             Ridge               LASSO                XGB                LGBM  \\\n",
       "             AUPRC     AUROC     AUPRC     AUROC    AUPRC     AUROC     AUPRC   \n",
       "ED_visit  0.269367  0.781758  0.272045  0.783733  0.45703  0.865704  0.278372   \n",
       "\n",
       "                         RF          \n",
       "             AUROC    AUPRC   AUROC  \n",
       "ED_visit  0.767941  0.36844  0.8111  "
      ]
     },
     "execution_count": 148,
     "metadata": {},
     "output_type": "execute_result"
    }
   ],
   "source": [
    "# select XGBoost\n",
    "# TODO: check if we can make it less overfit\n",
    "evaluate_valid(models, X_train, Y_train, metainfo_train)"
   ]
  },
  {
   "cell_type": "markdown",
   "metadata": {},
   "source": [
    "## Evaluate Model"
   ]
  },
  {
   "cell_type": "code",
   "execution_count": 149,
   "metadata": {},
   "outputs": [
    {
     "data": {
      "text/html": [
       "<div>\n",
       "<style scoped>\n",
       "    .dataframe tbody tr th:only-of-type {\n",
       "        vertical-align: middle;\n",
       "    }\n",
       "\n",
       "    .dataframe tbody tr th {\n",
       "        vertical-align: top;\n",
       "    }\n",
       "\n",
       "    .dataframe thead tr th {\n",
       "        text-align: left;\n",
       "    }\n",
       "</style>\n",
       "<table border=\"1\" class=\"dataframe\">\n",
       "  <thead>\n",
       "    <tr>\n",
       "      <th></th>\n",
       "      <th colspan=\"2\" halign=\"left\">Ridge</th>\n",
       "      <th colspan=\"2\" halign=\"left\">LASSO</th>\n",
       "      <th colspan=\"2\" halign=\"left\">XGB</th>\n",
       "      <th colspan=\"2\" halign=\"left\">LGBM</th>\n",
       "      <th colspan=\"2\" halign=\"left\">RF</th>\n",
       "    </tr>\n",
       "    <tr>\n",
       "      <th></th>\n",
       "      <th>AUPRC</th>\n",
       "      <th>AUROC</th>\n",
       "      <th>AUPRC</th>\n",
       "      <th>AUROC</th>\n",
       "      <th>AUPRC</th>\n",
       "      <th>AUROC</th>\n",
       "      <th>AUPRC</th>\n",
       "      <th>AUROC</th>\n",
       "      <th>AUPRC</th>\n",
       "      <th>AUROC</th>\n",
       "    </tr>\n",
       "  </thead>\n",
       "  <tbody>\n",
       "    <tr>\n",
       "      <th>ED_visit</th>\n",
       "      <td>0.237153</td>\n",
       "      <td>0.67575</td>\n",
       "      <td>0.231971</td>\n",
       "      <td>0.679841</td>\n",
       "      <td>0.237409</td>\n",
       "      <td>0.6851</td>\n",
       "      <td>0.219119</td>\n",
       "      <td>0.664609</td>\n",
       "      <td>0.252247</td>\n",
       "      <td>0.714822</td>\n",
       "    </tr>\n",
       "  </tbody>\n",
       "</table>\n",
       "</div>"
      ],
      "text/plain": [
       "             Ridge              LASSO                 XGB              LGBM  \\\n",
       "             AUPRC    AUROC     AUPRC     AUROC     AUPRC   AUROC     AUPRC   \n",
       "ED_visit  0.237153  0.67575  0.231971  0.679841  0.237409  0.6851  0.219119   \n",
       "\n",
       "                          RF            \n",
       "             AUROC     AUPRC     AUROC  \n",
       "ED_visit  0.664609  0.252247  0.714822  "
      ]
     },
     "execution_count": 149,
     "metadata": {},
     "output_type": "execute_result"
    }
   ],
   "source": [
    "pd.concat([evaluate_test(model, X_test, Y_test) for alg, model in models.items()], keys=models.keys()).T"
   ]
  },
  {
   "cell_type": "markdown",
   "metadata": {},
   "source": [
    "# Scratch Notes"
   ]
  },
  {
   "cell_type": "code",
   "execution_count": 53,
   "metadata": {},
   "outputs": [
    {
     "data": {
      "text/plain": [
       "0.6116838487972509"
      ]
     },
     "execution_count": 53,
     "metadata": {},
     "output_type": "execute_result"
    }
   ],
   "source": [
    "def outcome_level_sensitivity(df, lookahead_window: int = 30):\n",
    "    \"\"\"Get the proportion of true outcomes where at least one alarm preceded the event\n",
    "\n",
    "    E.g. if ED visit happens on Jan 20, our lookback window is 30 days, and assessments \n",
    "        happens on Jan 1 and Jan 14, then the outcome-level true positive is if \n",
    "        either Jan 1 or Jan 14 trigger a warning, and false negative if neither do\n",
    "    \"\"\"\n",
    "    result = []\n",
    "    for (mrn, event_date), group in df.groupby(['mrn', 'event_date']):\n",
    "\n",
    "        # ensure assessment date and event date is within X days of each other\n",
    "        diff = (group['event_date'] - group['assessment_date']).dt.days\n",
    "        assert all(diff.between(0, lookahead_window))\n",
    "\n",
    "        result.append(any(group['pred']))\n",
    "\n",
    "    return sum(result) / len(result) # tp / (tp + fn)\n",
    "\n",
    "event_df = pd.DataFrame()\n",
    "event_df[['mrn', 'assessment_date']] = df[['mrn', 'clinic_date']]\n",
    "event_df['pred'] = np.random.choice([0, 1], size=len(event_df))\n",
    "event_df['event_date'] = metainfo['target_ED_visit_date']\n",
    "outcome_level_sensitivity(event_df)"
   ]
  }
 ],
 "metadata": {
  "kernelspec": {
   "display_name": "aim2reduce",
   "language": "python",
   "name": "python3"
  },
  "language_info": {
   "codemirror_mode": {
    "name": "ipython",
    "version": 3
   },
   "file_extension": ".py",
   "mimetype": "text/x-python",
   "name": "python",
   "nbconvert_exporter": "python",
   "pygments_lexer": "ipython3",
   "version": "3.11.8"
  }
 },
 "nbformat": 4,
 "nbformat_minor": 2
}
