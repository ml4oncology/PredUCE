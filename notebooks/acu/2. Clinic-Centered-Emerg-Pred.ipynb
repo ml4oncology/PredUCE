{
 "cells": [
  {
   "cell_type": "markdown",
   "metadata": {},
   "source": [
    "# Predicting emergency department visits anchored on clinic dates\n",
    "---\n",
    "## Background\n",
    "Before, we built a model to predict emergency department (ED) visits anchored on treatment dates.\n",
    "\n",
    "The problem with that is the primary physicians do not interact with their patients during their treatment sessions. They only meet during their clinic visits. That is the best time for the model to nudge the physician for an intervention. Thus, we now want to build a model to predict patient's risk of ED visits prior to clinic date instead of prior to treatment session.\n",
    "\n",
    "---"
   ]
  },
  {
   "cell_type": "code",
   "execution_count": 1,
   "metadata": {},
   "outputs": [],
   "source": [
    "%%capture\n",
    "%cd ../../\n",
    "%load_ext autoreload\n",
    "%autoreload 2"
   ]
  },
  {
   "cell_type": "code",
   "execution_count": 2,
   "metadata": {},
   "outputs": [],
   "source": [
    "import logging\n",
    "\n",
    "import numpy as np\n",
    "import pandas as pd\n",
    "from datetime import datetime\n",
    "\n",
    "from ml_common.util import load_pickle, save_pickle\n",
    "\n",
    "from preduce.acu.eval import evaluate_valid, evaluate_test, predict\n",
    "from preduce.acu.pipeline import PrepACUData\n",
    "from preduce.acu.train import train_models, tune_params\n",
    "from preduce.prepare.clinic import get_clinic_visit_data, process_clinic_visits_prior_to_treatment\n",
    "from preduce.prepare.prep import anchor_features_to_assessment_dates\n",
    "from preduce.summarize import feature_summary, get_label_distribution\n",
    "\n",
    "pd.set_option('display.max_rows', 150)\n",
    "pd.set_option('display.max_columns', 100)\n",
    "\n",
    "logging.basicConfig(\n",
    "    level=logging.INFO, \n",
    "    format='%(levelname)s:%(message)s', \n",
    ")"
   ]
  },
  {
   "cell_type": "markdown",
   "metadata": {},
   "source": [
    "## Preprocess clinic visits"
   ]
  },
  {
   "cell_type": "code",
   "execution_count": 3,
   "metadata": {},
   "outputs": [
    {
     "name": "stdout",
     "output_type": "stream",
     "text": [
      "Removing 123 visits that \"occured before\" 2006-01-05 00:00:00\n"
     ]
    }
   ],
   "source": [
    "clinic_visit = get_clinic_visit_data(data_dir='./data/interim')\n",
    "clinic_visit['assessment_date'] = clinic_visit['clinic_date']\n",
    "clinic_visit.to_csv('./data/processed/assessment_dates.csv', index=False)"
   ]
  },
  {
   "cell_type": "markdown",
   "metadata": {},
   "source": [
    "## Anchor features to clinic visits"
   ]
  },
  {
   "cell_type": "code",
   "execution_count": 4,
   "metadata": {},
   "outputs": [],
   "source": [
    "anchor_features_to_assessment_dates(\n",
    "    script_path='../make-clinical-dataset/scripts', \n",
    "    output_filename='clinic_centered_feature_dataset'\n",
    ")"
   ]
  },
  {
   "cell_type": "markdown",
   "metadata": {},
   "source": [
    "## Load feature data"
   ]
  },
  {
   "cell_type": "code",
   "execution_count": 52,
   "metadata": {},
   "outputs": [],
   "source": [
    "df = pd.read_parquet('./data/processed/clinic_centered_feature_dataset.parquet.gzip')\n",
    "emerg = pd.read_parquet('./data/interim/emergency_room_visit.parquet.gzip')"
   ]
  },
  {
   "cell_type": "markdown",
   "metadata": {},
   "source": [
    "## Prepare Data"
   ]
  },
  {
   "cell_type": "code",
   "execution_count": 6,
   "metadata": {},
   "outputs": [
    {
     "name": "stderr",
     "output_type": "stream",
     "text": [
      "INFO:Removing 0 patients and 5493 sessions not first of a given week\n",
      "INFO:Removing 2982 patients and 12897 sessions before 2012-01-01 and after 2019-12-31\n",
      "INFO:Removing the following features for drugs given less than 10 times: ['%_ideal_dose_given_DURVALUMAB', '%_ideal_dose_given_IPILIMUMAB', '%_ideal_dose_given_CAPECITABINE', '%_ideal_dose_given_ERLOTINIB']\n",
      "INFO:Removing 2585 patients and 10848 sessions not from GI department\n",
      "INFO:Dropping the following 56 features for missingness over 80%: ['creatinine', 'sodium', 'chloride', 'potassium', 'magnesium', 'red_cell_distribution_width', 'aspartate_aminotransferase', 'alanine_aminotransferase', 'alkaline_phosphatase', 'total_bilirubin', 'glucose', 'phosphate', 'lactate_dehydrogenase', 'albumin', 'eosinophil', 'bicarbonate', 'mean_corpuscular_volume_change', 'mean_corpuscular_hemoglobin_concentration_change', 'mean_corpuscular_hemoglobin_change', 'hemoglobin_change', 'hematocrit_change', 'mean_platelet_volume_change', 'lymphocyte_change', 'red_blood_cell_change', 'white_blood_cell_change', 'neutrophil_change', 'platelet_change', 'monocyte_change', 'basophil', 'red_cell_distribution_width_change', 'carbohydrate_antigen_19-9', 'creatinine_change', 'potassium_change', 'sodium_change', 'chloride_change', 'magnesium_change', 'aspartate_aminotransferase_change', 'alanine_aminotransferase_change', 'alkaline_phosphatase_change', 'total_bilirubin_change', 'glucose_change', 'phosphate_change', 'lactate_dehydrogenase_change', 'albumin_change', 'eosinophil_change', 'prothrombin_time_international_normalized_ratio', 'activated_partial_thromboplastin_time', 'bicarbonate_change', 'basophil_change', 'carbohydrate_antigen_19-9_change', 'prothrombin_time_international_normalized_ratio_change', 'activated_partial_thromboplastin_time_change', 'carcinoembryonic_antigen', 'esas_diarrhea', 'esas_vomiting', 'esas_constipation']\n",
      "INFO:Removing 60 patients and 332 sessions with at least 70.0 percent of features missing\n",
      "INFO:Reassigning the following 24 indicators with less than 6 patients as other: ['cancer_site_C00', 'cancer_site_C01', 'cancer_site_C02', 'cancer_site_C03', 'cancer_site_C04', 'cancer_site_C05', 'cancer_site_C06', 'cancer_site_C07', 'cancer_site_C08', 'cancer_site_C09', 'cancer_site_C10', 'cancer_site_C11', 'cancer_site_C12', 'cancer_site_C13', 'cancer_site_C14', 'cancer_site_C26', 'cancer_site_C30', 'cancer_site_C31', 'cancer_site_C32', 'cancer_site_C37', 'cancer_site_C38', 'cancer_site_C48', 'cancer_site_C62', 'cancer_site_C76']\n",
      "INFO:Reassigning the following 0 indicators with less than 6 patients as other: []\n",
      "INFO:Removing 0 patients and 549 sessions that occured after 2018-02-01 in the development cohort\n",
      "INFO:Removing 4 patients and 59 sessions in which patient had a target event in less than 2 days.\n",
      "INFO:One-hot encoding training data\n",
      "INFO:Reassigning the following 15 indicators with less than 6 patients as other: ['regimen_GI-CISPFU + TRAS(LOAD)', 'regimen_GI-CISPFU ANAL', 'regimen_GI-DOCEQ3W', 'regimen_GI-DOXO', 'regimen_GI-ELF', 'regimen_GI-EOX', 'regimen_GI-FOLFNALIRI', 'regimen_GI-FOLFNALIRI (COMP)', 'regimen_GI-FU/FA/CISP BILIARY', 'regimen_GI-FUFA C3 (GASTRIC)', 'regimen_GI-FUFA-5 DAYS', 'regimen_GI-GEM D1,8 + CAPECIT', 'regimen_GI-GEMFU (BILIARY)', 'regimen_GI-IRINO 4-WEEKLY', 'regimen_GI-PACLI WEEKLY']\n",
      "INFO:Reassigning the following 0 indicators with less than 6 patients as other: []\n",
      "INFO:One-hot encoding testing data\n",
      "INFO:Reassigning the following regimen indicator columns that did not exist in train set as other:\n",
      "regimen_GI-CISPFU + TRAS(LOAD)     2\n",
      "regimen_GI-FOLFIRI+PANITUMUMAB     5\n",
      "regimen_GI-FOLFNALIRI (COMP)      17\n",
      "regimen_GI-GEM D1,8 + CAPECIT      1\n",
      "regimen_GI-GEM+OXALI (BILIARY)     1\n",
      "regimen_GI-PACLI WEEKLY            4\n",
      "dtype: int64\n"
     ]
    }
   ],
   "source": [
    "df = process_clinic_visits_prior_to_treatment(df)\n",
    "prep = PrepACUData()\n",
    "df = prep.preprocess(df, emerg)\n",
    "X, Y, metainfo = prep.prepare(df, event_name='ED_visit')\n",
    "df = df.loc[X.index]"
   ]
  },
  {
   "cell_type": "code",
   "execution_count": 7,
   "metadata": {},
   "outputs": [],
   "source": [
    "train_mask, test_mask = metainfo['split'] == 'Train', metainfo['split'] == 'Test'\n",
    "X_train, X_test = X[train_mask], X[test_mask]\n",
    "Y_train, Y_test = Y[train_mask], Y[test_mask]\n",
    "metainfo_train, metainfo_test = metainfo[train_mask], metainfo[test_mask]"
   ]
  },
  {
   "cell_type": "code",
   "execution_count": 55,
   "metadata": {},
   "outputs": [],
   "source": [
    "# Save the data prep for silent deployment\n",
    "# So we transform new incoming data using the original data preparer\n",
    "save_pickle(prep, './result', 'prep_ED_visit_clinic_anchored')"
   ]
  },
  {
   "cell_type": "markdown",
   "metadata": {},
   "source": [
    "## Describe Data"
   ]
  },
  {
   "cell_type": "code",
   "execution_count": 9,
   "metadata": {},
   "outputs": [
    {
     "name": "stdout",
     "output_type": "stream",
     "text": [
      "\n",
      "split               Test  Train  Total\n",
      "Number of sessions  1082  10152  11234\n",
      "Number of patients   389   1927   2316\n"
     ]
    }
   ],
   "source": [
    "count = pd.DataFrame({\n",
    "    'Number of sessions': metainfo.groupby('split').apply(len, include_groups=False), \n",
    "    'Number of patients': metainfo.groupby('split')['mrn'].nunique()}\n",
    ").T\n",
    "count['Total'] = count.sum(axis=1)\n",
    "print(f'\\n{count.to_string()}')"
   ]
  },
  {
   "cell_type": "code",
   "execution_count": 10,
   "metadata": {},
   "outputs": [
    {
     "data": {
      "text/html": [
       "<div>\n",
       "<style scoped>\n",
       "    .dataframe tbody tr th:only-of-type {\n",
       "        vertical-align: middle;\n",
       "    }\n",
       "\n",
       "    .dataframe tbody tr th {\n",
       "        vertical-align: top;\n",
       "    }\n",
       "\n",
       "    .dataframe thead tr th {\n",
       "        text-align: left;\n",
       "    }\n",
       "</style>\n",
       "<table border=\"1\" class=\"dataframe\">\n",
       "  <thead>\n",
       "    <tr>\n",
       "      <th></th>\n",
       "      <th></th>\n",
       "      <th colspan=\"2\" halign=\"left\">Total</th>\n",
       "      <th colspan=\"2\" halign=\"left\">Test</th>\n",
       "      <th colspan=\"2\" halign=\"left\">Train</th>\n",
       "    </tr>\n",
       "    <tr>\n",
       "      <th></th>\n",
       "      <th>ED_visit</th>\n",
       "      <th>False</th>\n",
       "      <th>True</th>\n",
       "      <th>False</th>\n",
       "      <th>True</th>\n",
       "      <th>False</th>\n",
       "      <th>True</th>\n",
       "    </tr>\n",
       "  </thead>\n",
       "  <tbody>\n",
       "    <tr>\n",
       "      <th>First Visit</th>\n",
       "      <th>ED_visit</th>\n",
       "      <td>1597</td>\n",
       "      <td>309</td>\n",
       "      <td>151</td>\n",
       "      <td>39</td>\n",
       "      <td>1446</td>\n",
       "      <td>270</td>\n",
       "    </tr>\n",
       "    <tr>\n",
       "      <th>Subsequent Visit</th>\n",
       "      <th>ED_visit</th>\n",
       "      <td>8425</td>\n",
       "      <td>903</td>\n",
       "      <td>784</td>\n",
       "      <td>108</td>\n",
       "      <td>7641</td>\n",
       "      <td>795</td>\n",
       "    </tr>\n",
       "    <tr>\n",
       "      <th>All</th>\n",
       "      <th>ED_visit</th>\n",
       "      <td>10022</td>\n",
       "      <td>1212</td>\n",
       "      <td>935</td>\n",
       "      <td>147</td>\n",
       "      <td>9087</td>\n",
       "      <td>1065</td>\n",
       "    </tr>\n",
       "  </tbody>\n",
       "</table>\n",
       "</div>"
      ],
      "text/plain": [
       "                           Total        Test       Train      \n",
       "ED_visit                   False True  False True  False True \n",
       "First Visit      ED_visit   1597   309   151    39  1446   270\n",
       "Subsequent Visit ED_visit   8425   903   784   108  7641   795\n",
       "All              ED_visit  10022  1212   935   147  9087  1065"
      ]
     },
     "execution_count": 10,
     "metadata": {},
     "output_type": "execute_result"
    }
   ],
   "source": [
    "no_trts_prior = df['treatment_date'].isnull()\n",
    "pd.concat([\n",
    "    get_label_distribution(Y[no_trts_prior], metainfo[no_trts_prior], with_respect_to='sessions'),\n",
    "    get_label_distribution(Y[~no_trts_prior], metainfo[~no_trts_prior], with_respect_to='sessions'),\n",
    "    get_label_distribution(Y, metainfo, with_respect_to='sessions')\n",
    "], keys=['First Visit', 'Subsequent Visit', 'All'])"
   ]
  },
  {
   "cell_type": "code",
   "execution_count": 11,
   "metadata": {},
   "outputs": [
    {
     "data": {
      "text/html": [
       "<div>\n",
       "<style scoped>\n",
       "    .dataframe tbody tr th:only-of-type {\n",
       "        vertical-align: middle;\n",
       "    }\n",
       "\n",
       "    .dataframe tbody tr th {\n",
       "        vertical-align: top;\n",
       "    }\n",
       "\n",
       "    .dataframe thead tr th {\n",
       "        text-align: left;\n",
       "    }\n",
       "</style>\n",
       "<table border=\"1\" class=\"dataframe\">\n",
       "  <thead>\n",
       "    <tr>\n",
       "      <th></th>\n",
       "      <th></th>\n",
       "      <th colspan=\"2\" halign=\"left\">Total</th>\n",
       "      <th colspan=\"2\" halign=\"left\">Test</th>\n",
       "      <th colspan=\"2\" halign=\"left\">Train</th>\n",
       "    </tr>\n",
       "    <tr>\n",
       "      <th></th>\n",
       "      <th></th>\n",
       "      <th>1</th>\n",
       "      <th>0</th>\n",
       "      <th>1</th>\n",
       "      <th>0</th>\n",
       "      <th>1</th>\n",
       "      <th>0</th>\n",
       "    </tr>\n",
       "  </thead>\n",
       "  <tbody>\n",
       "    <tr>\n",
       "      <th>First Visit</th>\n",
       "      <th>ED_visit</th>\n",
       "      <td>287</td>\n",
       "      <td>1124</td>\n",
       "      <td>37</td>\n",
       "      <td>126</td>\n",
       "      <td>250</td>\n",
       "      <td>998</td>\n",
       "    </tr>\n",
       "    <tr>\n",
       "      <th>Subsequent Visit</th>\n",
       "      <th>ED_visit</th>\n",
       "      <td>527</td>\n",
       "      <td>1584</td>\n",
       "      <td>71</td>\n",
       "      <td>267</td>\n",
       "      <td>456</td>\n",
       "      <td>1317</td>\n",
       "    </tr>\n",
       "    <tr>\n",
       "      <th>All</th>\n",
       "      <th>ED_visit</th>\n",
       "      <td>666</td>\n",
       "      <td>1650</td>\n",
       "      <td>96</td>\n",
       "      <td>293</td>\n",
       "      <td>570</td>\n",
       "      <td>1357</td>\n",
       "    </tr>\n",
       "  </tbody>\n",
       "</table>\n",
       "</div>"
      ],
      "text/plain": [
       "                          Total       Test      Train      \n",
       "                              1     0    1    0     1     0\n",
       "First Visit      ED_visit   287  1124   37  126   250   998\n",
       "Subsequent Visit ED_visit   527  1584   71  267   456  1317\n",
       "All              ED_visit   666  1650   96  293   570  1357"
      ]
     },
     "execution_count": 11,
     "metadata": {},
     "output_type": "execute_result"
    }
   ],
   "source": [
    "pd.concat([\n",
    "    get_label_distribution(Y[no_trts_prior], metainfo[no_trts_prior], with_respect_to='patients'),\n",
    "    get_label_distribution(Y[~no_trts_prior], metainfo[~no_trts_prior], with_respect_to='patients'),\n",
    "    get_label_distribution(Y, metainfo, with_respect_to='patients')\n",
    "], keys=['First Visit', 'Subsequent Visit', 'All'])"
   ]
  },
  {
   "cell_type": "code",
   "execution_count": 12,
   "metadata": {},
   "outputs": [
    {
     "data": {
      "text/html": [
       "<div>\n",
       "<style scoped>\n",
       "    .dataframe tbody tr th:only-of-type {\n",
       "        vertical-align: middle;\n",
       "    }\n",
       "\n",
       "    .dataframe tbody tr th {\n",
       "        vertical-align: top;\n",
       "    }\n",
       "\n",
       "    .dataframe thead th {\n",
       "        text-align: right;\n",
       "    }\n",
       "</style>\n",
       "<table border=\"1\" class=\"dataframe\">\n",
       "  <thead>\n",
       "    <tr style=\"text-align: right;\">\n",
       "      <th></th>\n",
       "      <th>Features</th>\n",
       "      <th>Group</th>\n",
       "      <th>Mean (SD)</th>\n",
       "      <th>Missingness (%)</th>\n",
       "    </tr>\n",
       "  </thead>\n",
       "  <tbody>\n",
       "    <tr>\n",
       "      <th>59</th>\n",
       "      <td>Regimen GI-CISPCAPE+TRAS(LOAD)</td>\n",
       "      <td>Treatment</td>\n",
       "      <td>0.004 (0.064)</td>\n",
       "      <td>0.0</td>\n",
       "    </tr>\n",
       "    <tr>\n",
       "      <th>52</th>\n",
       "      <td>ESAS Drowsiness Score Change</td>\n",
       "      <td>Symptoms</td>\n",
       "      <td>0.058 (1.997)</td>\n",
       "      <td>56.3</td>\n",
       "    </tr>\n",
       "    <tr>\n",
       "      <th>91</th>\n",
       "      <td>Regimen GI-XELOX</td>\n",
       "      <td>Treatment</td>\n",
       "      <td>0.005 (0.071)</td>\n",
       "      <td>0.0</td>\n",
       "    </tr>\n",
       "    <tr>\n",
       "      <th>5</th>\n",
       "      <td>Female (yes/no)</td>\n",
       "      <td>Demographic</td>\n",
       "      <td>0.438 (0.496)</td>\n",
       "      <td>0.0</td>\n",
       "    </tr>\n",
       "    <tr>\n",
       "      <th>78</th>\n",
       "      <td>Regimen GI-GEM D1,8</td>\n",
       "      <td>Treatment</td>\n",
       "      <td>0.003 (0.054)</td>\n",
       "      <td>0.0</td>\n",
       "    </tr>\n",
       "    <tr>\n",
       "      <th>80</th>\n",
       "      <td>Regimen GI-GEM+ABRAXANE</td>\n",
       "      <td>Treatment</td>\n",
       "      <td>0.048 (0.214)</td>\n",
       "      <td>0.0</td>\n",
       "    </tr>\n",
       "    <tr>\n",
       "      <th>61</th>\n",
       "      <td>Regimen GI-CISPFU + TRAS(MAIN)</td>\n",
       "      <td>Treatment</td>\n",
       "      <td>0.002 (0.050)</td>\n",
       "      <td>0.0</td>\n",
       "    </tr>\n",
       "    <tr>\n",
       "      <th>55</th>\n",
       "      <td>ESAS Dyspnea Score Change</td>\n",
       "      <td>Symptoms</td>\n",
       "      <td>0.005 (1.544)</td>\n",
       "      <td>56.5</td>\n",
       "    </tr>\n",
       "    <tr>\n",
       "      <th>13</th>\n",
       "      <td>Topography ICD-0-3 C22, Liver and intrahepatic...</td>\n",
       "      <td>Cancer</td>\n",
       "      <td>0.045 (0.208)</td>\n",
       "      <td>0.0</td>\n",
       "    </tr>\n",
       "    <tr>\n",
       "      <th>42</th>\n",
       "      <td>Days Since Previous ED Visit</td>\n",
       "      <td>Acute care use</td>\n",
       "      <td>1186.708 (812.315)</td>\n",
       "      <td>0.0</td>\n",
       "    </tr>\n",
       "  </tbody>\n",
       "</table>\n",
       "</div>"
      ],
      "text/plain": [
       "                                             Features           Group  \\\n",
       "59                     Regimen GI-CISPCAPE+TRAS(LOAD)       Treatment   \n",
       "52                       ESAS Drowsiness Score Change        Symptoms   \n",
       "91                                   Regimen GI-XELOX       Treatment   \n",
       "5                                     Female (yes/no)     Demographic   \n",
       "78                                Regimen GI-GEM D1,8       Treatment   \n",
       "80                            Regimen GI-GEM+ABRAXANE       Treatment   \n",
       "61                     Regimen GI-CISPFU + TRAS(MAIN)       Treatment   \n",
       "55                          ESAS Dyspnea Score Change        Symptoms   \n",
       "13  Topography ICD-0-3 C22, Liver and intrahepatic...          Cancer   \n",
       "42                       Days Since Previous ED Visit  Acute care use   \n",
       "\n",
       "             Mean (SD)  Missingness (%)  \n",
       "59       0.004 (0.064)              0.0  \n",
       "52       0.058 (1.997)             56.3  \n",
       "91       0.005 (0.071)              0.0  \n",
       "5        0.438 (0.496)              0.0  \n",
       "78       0.003 (0.054)              0.0  \n",
       "80       0.048 (0.214)              0.0  \n",
       "61       0.002 (0.050)              0.0  \n",
       "55       0.005 (1.544)             56.5  \n",
       "13       0.045 (0.208)              0.0  \n",
       "42  1186.708 (812.315)              0.0  "
      ]
     },
     "execution_count": 12,
     "metadata": {},
     "output_type": "execute_result"
    }
   ],
   "source": [
    "# Feature Characteristics\n",
    "x = prep.ohe.encode(df.loc[X_train.index].copy(), verbose=False) # get original (non-normalized, non-imputed) data one-hot encoded\n",
    "x = x[[col for col in x.columns if not (col in metainfo.columns or col.startswith('target'))]]\n",
    "feature_summary(x, save_path='result/tables/feature_summary_ED_clinic_anchored.csv').sample(10, random_state=42)"
   ]
  },
  {
   "cell_type": "markdown",
   "metadata": {},
   "source": [
    "## Train Models"
   ]
  },
  {
   "cell_type": "code",
   "execution_count": 13,
   "metadata": {},
   "outputs": [],
   "source": [
    "# LGBM does not like non alphanumeric characters (except for _)\n",
    "for char in ['(', ')', '+', '-', '/', ',']: \n",
    "    X_train.columns = X_train.columns.str.replace(char, '_')\n",
    "    X_test.columns = X_test.columns.str.replace(char, '_')"
   ]
  },
  {
   "cell_type": "code",
   "execution_count": 81,
   "metadata": {},
   "outputs": [],
   "source": [
    "%%capture\n",
    "# Hyperparameter tuning\n",
    "# TODO: try greater kappa for greater exploration\n",
    "algs = ['LASSO', 'RF', 'Ridge', 'XGB', 'LGBM']\n",
    "best_params = {}\n",
    "for alg in algs:\n",
    "    best_params[alg] = tune_params(alg, X_train, Y_train['ED_visit'], metainfo_train)\n",
    "save_pickle(best_params, './models', 'best_params_clinic_anchored')\n",
    "save_pickle(best_params, './models', f'best_params_clinic_anchored-{datetime.now()}')"
   ]
  },
  {
   "cell_type": "code",
   "execution_count": 98,
   "metadata": {},
   "outputs": [],
   "source": [
    "best_params = load_pickle('./models', 'best_params_clinic_anchored')\n",
    "models = train_models(X_train, Y_train, metainfo_train, best_params)"
   ]
  },
  {
   "cell_type": "markdown",
   "metadata": {},
   "source": [
    "## Model Selection\n",
    "Select final model based on the average performance across the validation folds"
   ]
  },
  {
   "cell_type": "code",
   "execution_count": 99,
   "metadata": {},
   "outputs": [
    {
     "data": {
      "text/html": [
       "<div>\n",
       "<style scoped>\n",
       "    .dataframe tbody tr th:only-of-type {\n",
       "        vertical-align: middle;\n",
       "    }\n",
       "\n",
       "    .dataframe tbody tr th {\n",
       "        vertical-align: top;\n",
       "    }\n",
       "\n",
       "    .dataframe thead tr th {\n",
       "        text-align: left;\n",
       "    }\n",
       "</style>\n",
       "<table border=\"1\" class=\"dataframe\">\n",
       "  <thead>\n",
       "    <tr>\n",
       "      <th></th>\n",
       "      <th colspan=\"2\" halign=\"left\">Ridge</th>\n",
       "      <th colspan=\"2\" halign=\"left\">LASSO</th>\n",
       "      <th colspan=\"2\" halign=\"left\">XGB</th>\n",
       "      <th colspan=\"2\" halign=\"left\">LGBM</th>\n",
       "      <th colspan=\"2\" halign=\"left\">RF</th>\n",
       "    </tr>\n",
       "    <tr>\n",
       "      <th></th>\n",
       "      <th>AUPRC</th>\n",
       "      <th>AUROC</th>\n",
       "      <th>AUPRC</th>\n",
       "      <th>AUROC</th>\n",
       "      <th>AUPRC</th>\n",
       "      <th>AUROC</th>\n",
       "      <th>AUPRC</th>\n",
       "      <th>AUROC</th>\n",
       "      <th>AUPRC</th>\n",
       "      <th>AUROC</th>\n",
       "    </tr>\n",
       "  </thead>\n",
       "  <tbody>\n",
       "    <tr>\n",
       "      <th>ED_visit</th>\n",
       "      <td>0.273578</td>\n",
       "      <td>0.772846</td>\n",
       "      <td>0.270908</td>\n",
       "      <td>0.774217</td>\n",
       "      <td>0.558861</td>\n",
       "      <td>0.919677</td>\n",
       "      <td>0.228049</td>\n",
       "      <td>0.71533</td>\n",
       "      <td>0.346846</td>\n",
       "      <td>0.793823</td>\n",
       "    </tr>\n",
       "  </tbody>\n",
       "</table>\n",
       "</div>"
      ],
      "text/plain": [
       "             Ridge               LASSO                 XGB            \\\n",
       "             AUPRC     AUROC     AUPRC     AUROC     AUPRC     AUROC   \n",
       "ED_visit  0.273578  0.772846  0.270908  0.774217  0.558861  0.919677   \n",
       "\n",
       "              LGBM                 RF            \n",
       "             AUPRC    AUROC     AUPRC     AUROC  \n",
       "ED_visit  0.228049  0.71533  0.346846  0.793823  "
      ]
     },
     "execution_count": 99,
     "metadata": {},
     "output_type": "execute_result"
    }
   ],
   "source": [
    "evaluate_valid(models, X_train, Y_train, metainfo_train)"
   ]
  },
  {
   "cell_type": "markdown",
   "metadata": {},
   "source": [
    "## Evaluate Model"
   ]
  },
  {
   "cell_type": "code",
   "execution_count": 100,
   "metadata": {},
   "outputs": [
    {
     "data": {
      "text/html": [
       "<div>\n",
       "<style scoped>\n",
       "    .dataframe tbody tr th:only-of-type {\n",
       "        vertical-align: middle;\n",
       "    }\n",
       "\n",
       "    .dataframe tbody tr th {\n",
       "        vertical-align: top;\n",
       "    }\n",
       "\n",
       "    .dataframe thead tr th {\n",
       "        text-align: left;\n",
       "    }\n",
       "</style>\n",
       "<table border=\"1\" class=\"dataframe\">\n",
       "  <thead>\n",
       "    <tr>\n",
       "      <th></th>\n",
       "      <th colspan=\"2\" halign=\"left\">Ridge</th>\n",
       "      <th colspan=\"2\" halign=\"left\">LASSO</th>\n",
       "      <th colspan=\"2\" halign=\"left\">XGB</th>\n",
       "      <th colspan=\"2\" halign=\"left\">LGBM</th>\n",
       "      <th colspan=\"2\" halign=\"left\">RF</th>\n",
       "    </tr>\n",
       "    <tr>\n",
       "      <th></th>\n",
       "      <th>AUPRC</th>\n",
       "      <th>AUROC</th>\n",
       "      <th>AUPRC</th>\n",
       "      <th>AUROC</th>\n",
       "      <th>AUPRC</th>\n",
       "      <th>AUROC</th>\n",
       "      <th>AUPRC</th>\n",
       "      <th>AUROC</th>\n",
       "      <th>AUPRC</th>\n",
       "      <th>AUROC</th>\n",
       "    </tr>\n",
       "  </thead>\n",
       "  <tbody>\n",
       "    <tr>\n",
       "      <th>ED_visit</th>\n",
       "      <td>0.254211</td>\n",
       "      <td>0.66171</td>\n",
       "      <td>0.269777</td>\n",
       "      <td>0.654367</td>\n",
       "      <td>0.239631</td>\n",
       "      <td>0.677871</td>\n",
       "      <td>0.220564</td>\n",
       "      <td>0.653517</td>\n",
       "      <td>0.249247</td>\n",
       "      <td>0.675706</td>\n",
       "    </tr>\n",
       "  </tbody>\n",
       "</table>\n",
       "</div>"
      ],
      "text/plain": [
       "             Ridge              LASSO                 XGB                LGBM  \\\n",
       "             AUPRC    AUROC     AUPRC     AUROC     AUPRC     AUROC     AUPRC   \n",
       "ED_visit  0.254211  0.66171  0.269777  0.654367  0.239631  0.677871  0.220564   \n",
       "\n",
       "                          RF            \n",
       "             AUROC     AUPRC     AUROC  \n",
       "ED_visit  0.653517  0.249247  0.675706  "
      ]
     },
     "execution_count": 100,
     "metadata": {},
     "output_type": "execute_result"
    }
   ],
   "source": [
    "pd.concat([evaluate_test(model, X_test, Y_test) for alg, model in models.items()], keys=models.keys()).T"
   ]
  },
  {
   "cell_type": "code",
   "execution_count": 101,
   "metadata": {},
   "outputs": [
    {
     "data": {
      "text/html": [
       "<div>\n",
       "<style scoped>\n",
       "    .dataframe tbody tr th:only-of-type {\n",
       "        vertical-align: middle;\n",
       "    }\n",
       "\n",
       "    .dataframe tbody tr th {\n",
       "        vertical-align: top;\n",
       "    }\n",
       "\n",
       "    .dataframe thead tr th {\n",
       "        text-align: left;\n",
       "    }\n",
       "</style>\n",
       "<table border=\"1\" class=\"dataframe\">\n",
       "  <thead>\n",
       "    <tr>\n",
       "      <th></th>\n",
       "      <th colspan=\"2\" halign=\"left\">First Visit</th>\n",
       "      <th colspan=\"2\" halign=\"left\">Subsequent Visits</th>\n",
       "    </tr>\n",
       "    <tr>\n",
       "      <th></th>\n",
       "      <th>AUPRC</th>\n",
       "      <th>AUROC</th>\n",
       "      <th>AUPRC</th>\n",
       "      <th>AUROC</th>\n",
       "    </tr>\n",
       "  </thead>\n",
       "  <tbody>\n",
       "    <tr>\n",
       "      <th>ED_visit</th>\n",
       "      <td>0.304225</td>\n",
       "      <td>0.656868</td>\n",
       "      <td>0.217102</td>\n",
       "      <td>0.669823</td>\n",
       "    </tr>\n",
       "  </tbody>\n",
       "</table>\n",
       "</div>"
      ],
      "text/plain": [
       "         First Visit           Subsequent Visits          \n",
       "               AUPRC     AUROC             AUPRC     AUROC\n",
       "ED_visit    0.304225  0.656868          0.217102  0.669823"
      ]
     },
     "execution_count": 101,
     "metadata": {},
     "output_type": "execute_result"
    }
   ],
   "source": [
    "model = models['XGB']\n",
    "mask = metainfo_test['treatment_date'].isnull()\n",
    "pd.concat([\n",
    "    evaluate_test(model, X_test[mask], Y_test[mask]),\n",
    "    evaluate_test(model, X_test[~mask], Y_test[~mask])\n",
    "], keys=['First Visit', 'Subsequent Visits']).T"
   ]
  },
  {
   "cell_type": "code",
   "execution_count": 102,
   "metadata": {},
   "outputs": [
    {
     "name": "stdout",
     "output_type": "stream",
     "text": [
      "Prediction threshold: 0.198\n",
      "Alarm Rate: 0.10382513661202186\n"
     ]
    }
   ],
   "source": [
    "# compute threshold that achieves 10% alarm rate\n",
    "pred = predict(model['ED_visit'], X_test)\n",
    "for pred_threshold in np.arange(0, 1.0, 0.001):\n",
    "    alarm_rate = np.mean(pred > pred_threshold)\n",
    "    if np.isclose(alarm_rate, 0.1, atol=0.005):\n",
    "        print(f'Prediction threshold: {pred_threshold}\\nAlarm Rate: {alarm_rate}')\n",
    "        break"
   ]
  },
  {
   "cell_type": "code",
   "execution_count": 103,
   "metadata": {},
   "outputs": [],
   "source": [
    "save_pickle(model['ED_visit'], './models', 'XGB_ED_visit_clinic_anchored')"
   ]
  }
 ],
 "metadata": {
  "kernelspec": {
   "display_name": "aim2reduce",
   "language": "python",
   "name": "python3"
  },
  "language_info": {
   "codemirror_mode": {
    "name": "ipython",
    "version": 3
   },
   "file_extension": ".py",
   "mimetype": "text/x-python",
   "name": "python",
   "nbconvert_exporter": "python",
   "pygments_lexer": "ipython3",
   "version": "3.11.8"
  }
 },
 "nbformat": 4,
 "nbformat_minor": 2
}
