{
 "cells": [
  {
   "cell_type": "markdown",
   "metadata": {},
   "source": [
    "# Predicting emergency department visits anchored on clinic dates\n",
    "---\n",
    "## Background\n",
    "Before, we built a model to predict emergency department (ED) visits anchored on treatment dates.\n",
    "\n",
    "The problem with that is the primary physicians do not interact with their patients during their treatment sessions. They only meet during their clinic visits. That is the best time for the model to nudge the physician for an intervention. Thus, we now want to build a model to predict patient's risk of ED visits prior to clinic date instead of prior to treatment session.\n",
    "\n",
    "---"
   ]
  },
  {
   "cell_type": "code",
   "execution_count": 1,
   "metadata": {},
   "outputs": [],
   "source": [
    "%%capture\n",
    "%cd ../../\n",
    "%load_ext autoreload\n",
    "%autoreload 2"
   ]
  },
  {
   "cell_type": "code",
   "execution_count": 192,
   "metadata": {},
   "outputs": [],
   "source": [
    "import logging\n",
    "\n",
    "import pandas as pd\n",
    "\n",
    "from ml_common.util import get_excluded_numbers, load_pickle, save_pickle\n",
    "\n",
    "from preduce.acu.pipeline import PrepACUData\n",
    "from preduce.prepare.prep import anchor_features_to_clinic_dates\n",
    "from preduce.summarize import feature_summary, get_label_distribution\n",
    "from preduce.util import load_clinic_dates\n",
    "\n",
    "pd.set_option('display.max_rows', 150)\n",
    "\n",
    "logging.basicConfig(\n",
    "    level=logging.INFO, \n",
    "    format='%(levelname)s:%(message)s', \n",
    ")"
   ]
  },
  {
   "cell_type": "markdown",
   "metadata": {},
   "source": [
    "## Load clinic data"
   ]
  },
  {
   "cell_type": "code",
   "execution_count": 46,
   "metadata": {},
   "outputs": [
    {
     "name": "stdout",
     "output_type": "stream",
     "text": [
      "Removing 123 visits that \"occured before\" 2006-01-05\n"
     ]
    }
   ],
   "source": [
    "clinic = load_clinic_dates(data_dir='./data/processed')\n",
    "treatment = pd.read_parquet('./data/interim/treatment.parquet.gzip')"
   ]
  },
  {
   "cell_type": "code",
   "execution_count": 41,
   "metadata": {},
   "outputs": [],
   "source": [
    "# Filter the clinic dates\n",
    "# METHOD1: pd.merge - pros readability, cons maybe performance?\n",
    "df = pd.merge(clinic, treatment[['mrn', 'treatment_date']], on='mrn', how='inner')\n",
    "df = df.rename(columns={'treatment_date': 'next_treatment_date'})\n",
    "\n",
    "# filter out clinic dates where the next treatment session does not occur within 5 days\n",
    "mask = df['next_treatment_date'].between(df['clinic_date'], df['clinic_date'] + pd.Timedelta(days=5))\n",
    "df = df[mask]\n",
    "\n",
    "# filter out clinic dates where notes were uploaded after the next treatment session\n",
    "mask = df['upload_date'] < df['next_treatment_date']\n",
    "df = df[mask]\n",
    "\n",
    "# remove duplicates from the merging\n",
    "df = df.sort_values(by=['mrn', 'next_treatment_date'])\n",
    "df = df.drop_duplicates(subset=['mrn', 'clinic_date'], keep='first')"
   ]
  },
  {
   "cell_type": "code",
   "execution_count": 43,
   "metadata": {},
   "outputs": [],
   "source": [
    "df.to_csv('./data/processed/assessment_dates.csv', index=False)"
   ]
  },
  {
   "cell_type": "markdown",
   "metadata": {},
   "source": [
    "## Anchor features to clinic visits"
   ]
  },
  {
   "cell_type": "code",
   "execution_count": 76,
   "metadata": {},
   "outputs": [],
   "source": [
    "anchor_features_to_clinic_dates(script_path='../make-clinical-dataset/scripts')"
   ]
  },
  {
   "cell_type": "markdown",
   "metadata": {},
   "source": [
    "## Load feature data"
   ]
  },
  {
   "cell_type": "code",
   "execution_count": 179,
   "metadata": {},
   "outputs": [],
   "source": [
    "df = pd.read_parquet('./data/processed/clinic_centered_feature_dataset.parquet.gzip')\n",
    "emerg = pd.read_parquet('./data/interim/emergency_room_visit.parquet.gzip')"
   ]
  },
  {
   "cell_type": "markdown",
   "metadata": {},
   "source": [
    "## Prepare Data"
   ]
  },
  {
   "cell_type": "code",
   "execution_count": 180,
   "metadata": {},
   "outputs": [
    {
     "name": "stderr",
     "output_type": "stream",
     "text": [
      "INFO:Removing 895 patients and 8891 sessions which are the first clinic visits\n"
     ]
    }
   ],
   "source": [
    "# remove the first clinic visit before starting the treatment\n",
    "# we do not want the model to make an assessment when the clinician has never met the patient yet\n",
    "mask = df['treatment_date'].notnull()\n",
    "# get_nmissing(df[~mask])\n",
    "get_excluded_numbers(df, mask, context=' which are the first clinic visits')\n",
    "df = df[mask]"
   ]
  },
  {
   "cell_type": "code",
   "execution_count": 181,
   "metadata": {},
   "outputs": [
    {
     "name": "stderr",
     "output_type": "stream",
     "text": [
      "Getting change since last session...: 100%|██████████| 7052/7052 [00:02<00:00, 3228.58it/s]\n",
      "100%|█████████████████████████████████████| 1763/1763 [00:06<00:00, 261.06it/s]\n",
      "100%|█████████████████████████████████████| 1763/1763 [00:06<00:00, 257.11it/s]\n",
      "100%|█████████████████████████████████████| 1763/1763 [00:06<00:00, 256.71it/s]\n",
      "100%|█████████████████████████████████████| 1763/1763 [00:06<00:00, 255.94it/s]\n",
      "INFO:Removing 3618 patients and 15499 sessions before 2014-01-01 and after 2019-12-31\n",
      "INFO:Removing the following features for drugs given less than 10 times: ['%_ideal_dose_given_DURVALUMAB', '%_ideal_dose_given_RALTITREXED', '%_ideal_dose_given_IPILIMUMAB', '%_ideal_dose_given_CAPECITABINE', '%_ideal_dose_given_ERLOTINIB']\n",
      "INFO:Dropping the following 13 features for missingness over 80%: ['basophil', 'esas_appetite_change', 'esas_drowsiness_change', 'prothrombin_time_international_normalized_ratio', 'activated_partial_thromboplastin_time', 'carbohydrate_antigen_19-9', 'mean_corpuscular_hemoglobin_change', 'esas_pain_change', 'esas_well_being_change', 'carcinoembryonic_antigen', 'esas_constipation', 'esas_diarrhea', 'esas_vomiting']\n",
      "INFO:Reassigning the following 6 indicators with less than 6 patients as other: ['cancer_site_C00', 'cancer_site_C14', 'cancer_site_C26', 'cancer_site_C48', 'cancer_site_C62', 'cancer_site_C76']\n",
      "INFO:Reassigning the following 62 indicators with less than 6 patients as other: ['morphology_800', 'morphology_805', 'morphology_809', 'morphology_812', 'morphology_815', 'morphology_818', 'morphology_820', 'morphology_822', 'morphology_829', 'morphology_831', 'morphology_832', 'morphology_833', 'morphology_836', 'morphology_840', 'morphology_843', 'morphology_844', 'morphology_845', 'morphology_847', 'morphology_851', 'morphology_852', 'morphology_854', 'morphology_857', 'morphology_868', 'morphology_869', 'morphology_871', 'morphology_872', 'morphology_874', 'morphology_877', 'morphology_880', 'morphology_881', 'morphology_882', 'morphology_883', 'morphology_885', 'morphology_889', 'morphology_890', 'morphology_891', 'morphology_892', 'morphology_893', 'morphology_894', 'morphology_896', 'morphology_897', 'morphology_898', 'morphology_899', 'morphology_904', 'morphology_906', 'morphology_907', 'morphology_908', 'morphology_912', 'morphology_913', 'morphology_914', 'morphology_915', 'morphology_917', 'morphology_918', 'morphology_922', 'morphology_924', 'morphology_926', 'morphology_927', 'morphology_937', 'morphology_950', 'morphology_952', 'morphology_954', 'morphology_958']\n"
     ]
    }
   ],
   "source": [
    "prep = PrepACUData()\n",
    "df = prep.preprocess(df, emerg)"
   ]
  },
  {
   "cell_type": "code",
   "execution_count": 182,
   "metadata": {},
   "outputs": [
    {
     "name": "stderr",
     "output_type": "stream",
     "text": [
      "INFO:Removing 1809 patients and 8152 sessions not from GI department\n"
     ]
    }
   ],
   "source": [
    "# To align with EPIC system for silent deployment\n",
    "# 1. remove drug and morphology features\n",
    "# 2. restrict to GI patients\n",
    "# This will be temporary\n",
    "cols = df.columns\n",
    "cols = cols[~cols.str.contains('morphology|%_ideal_dose')]\n",
    "df = df[cols]\n",
    "\n",
    "mask = df['regimen'].str.startswith('GI-')\n",
    "get_excluded_numbers(df, mask, context=' not from GI department')\n",
    "df = df[mask]"
   ]
  },
  {
   "cell_type": "code",
   "execution_count": 183,
   "metadata": {},
   "outputs": [
    {
     "name": "stderr",
     "output_type": "stream",
     "text": [
      "INFO:Removing 0 patients and 512 sessions that occured after 2018-02-01 in the development cohort\n",
      "INFO:Development Cohort: NSessions=7250. NPatients=1280. Contains all patients whose first visit was  on or before 2018-02-01\n",
      "INFO:Test Cohort: NSessions=1108. NPatients=345. Contains all patients whose first visit was  after 2018-02-01\n",
      "INFO:Removing 1 patients and 36 sessions in which patient had a target event in less than 2 days.\n",
      "INFO:Removing 0 patients and 8 sessions in which patient had a target event in less than 2 days.\n",
      "INFO:One-hot encoding training data\n",
      "INFO:Reassigning the following 19 indicators with less than 6 patients as other: ['regimen_GI-CISPFU + TRAS(LOAD)', 'regimen_GI-CISPFU + TRAS(MAIN)', 'regimen_GI-CISPFU ANAL', 'regimen_GI-DOXO', 'regimen_GI-EOX', 'regimen_GI-FOLFNALIRI', 'regimen_GI-FOLFNALIRI (COMP)', 'regimen_GI-FOLFOX (GASTRIC)', 'regimen_GI-FUFA C2 (GASTRIC)', 'regimen_GI-FUFA C3 (GASTRIC)', 'regimen_GI-FUFA WEEKLY', 'regimen_GI-FUFA-5 DAYS', 'regimen_GI-GEM D1,8', 'regimen_GI-GEM D1,8 + CAPECIT', 'regimen_GI-GEMCAP', 'regimen_GI-GEMFU (BILIARY)', 'regimen_GI-IRINO Q3W', 'regimen_GI-PACLI WEEKLY', 'regimen_GI-PACLITAXEL']\n",
      "INFO:Reassigning the following 0 indicators with less than 6 patients as other: []\n",
      "INFO:One-hot encoding validation data\n",
      "INFO:Reassigning the following regimen indicator columns that did not exist in train set as other:\n",
      "regimen_GI-CISPFU + TRAS(MAIN)    10\n",
      "regimen_GI-CISPFU ANAL             2\n",
      "regimen_GI-FOLFNALIRI              2\n",
      "regimen_GI-FOLFNALIRI (COMP)       1\n",
      "regimen_GI-FOLFOX (GASTRIC)        4\n",
      "regimen_GI-FUFA C2 (GASTRIC)       8\n",
      "regimen_GI-FUFA WEEKLY             6\n",
      "regimen_GI-GEM D1,8               11\n",
      "regimen_GI-GEM D1,8 + CAPECIT      6\n",
      "regimen_GI-GEMCAP                  7\n",
      "regimen_GI-GEMFU (BILIARY)         1\n",
      "regimen_GI-IRINO 4-WEEKLY          4\n",
      "regimen_GI-IRINO Q3W               4\n",
      "regimen_GI-PACLI WEEKLY            3\n",
      "dtype: int64\n",
      "INFO:One-hot encoding testing data\n",
      "INFO:Reassigning the following regimen indicator columns that did not exist in train set as other:\n",
      "regimen_GI-CISPFU + TRAS(LOAD)     3\n",
      "regimen_GI-CISPFU + TRAS(MAIN)     7\n",
      "regimen_GI-FOLFIRI+PANITUMUMAB     5\n",
      "regimen_GI-FOLFNALIRI (COMP)      17\n",
      "regimen_GI-FOLFOX (GASTRIC)       41\n",
      "regimen_GI-FUFA C2 (GASTRIC)       3\n",
      "regimen_GI-FUFA C3 (GASTRIC)       1\n",
      "regimen_GI-GEMCAP                 16\n",
      "regimen_GI-PACLI WEEKLY            3\n",
      "dtype: int64\n"
     ]
    }
   ],
   "source": [
    "X, Y, metainfo = prep.prepare(df, event_name='ED_visit')\n",
    "# clean up Y\n",
    "for col in ['target_CEDIS_complaint', 'target_CTAS_score']:\n",
    "    metainfo[col] = Y.pop(col)\n",
    "Y.columns = Y.columns.str.replace('target_', '')"
   ]
  },
  {
   "cell_type": "code",
   "execution_count": 174,
   "metadata": {},
   "outputs": [],
   "source": [
    "train_mask, valid_mask, test_mask = metainfo['split'] == 'Train', metainfo['split'] == 'Valid', metainfo['split'] == 'Test'\n",
    "X_train, X_valid, X_test = X[train_mask], X[valid_mask], X[test_mask]\n",
    "Y_train, Y_valid, Y_test = Y[train_mask], Y[valid_mask], Y[test_mask]"
   ]
  },
  {
   "cell_type": "code",
   "execution_count": null,
   "metadata": {},
   "outputs": [],
   "source": [
    "# Save the data prep for silent deployment\n",
    "# So we transform new incoming data using the original data preparer\n",
    "# save_pickle(prep.scaler, './result', 'scaler_ED')\n",
    "# save_pickle(prep.imp.imputer, './result', 'imputer_ED')\n",
    "# save_pickle(prep.clip_thresh, './result', 'clip_thresh_ED')\n",
    "# save_pickle(prep.ohe.final_columns, './result', 'encoded_cols_ED')\n",
    "\n",
    "# X.to_csv('./data/debug/to_muammar/X.csv', index=False)\n",
    "# Y.to_csv('./data/debug/to_muammar/Y.csv', index=False)\n",
    "# metainfo.to_csv('./data/debug/to_muammar/metainfo.csv', index=False)\n",
    "# df.loc[X.index].to_csv('./data/debug/to_muammar/orig.csv', index=False)"
   ]
  },
  {
   "cell_type": "markdown",
   "metadata": {},
   "source": [
    "## Describe Data"
   ]
  },
  {
   "cell_type": "code",
   "execution_count": 184,
   "metadata": {},
   "outputs": [
    {
     "name": "stdout",
     "output_type": "stream",
     "text": [
      "\n",
      "split               Test  Train  Valid  Total\n",
      "Number of sessions  1108   5738   1468   8314\n",
      "Number of patients   345   1023    256   1624\n"
     ]
    }
   ],
   "source": [
    "count = pd.DataFrame({\n",
    "    'Number of sessions': metainfo.groupby('split').apply(len, include_groups=False), \n",
    "    'Number of patients': metainfo.groupby('split')['mrn'].nunique()}\n",
    ").T\n",
    "count['Total'] = count.sum(axis=1)\n",
    "print(f'\\n{count.to_string()}')"
   ]
  },
  {
   "cell_type": "code",
   "execution_count": 186,
   "metadata": {},
   "outputs": [
    {
     "data": {
      "text/html": [
       "<div>\n",
       "<style scoped>\n",
       "    .dataframe tbody tr th:only-of-type {\n",
       "        vertical-align: middle;\n",
       "    }\n",
       "\n",
       "    .dataframe tbody tr th {\n",
       "        vertical-align: top;\n",
       "    }\n",
       "\n",
       "    .dataframe thead tr th {\n",
       "        text-align: left;\n",
       "    }\n",
       "</style>\n",
       "<table border=\"1\" class=\"dataframe\">\n",
       "  <thead>\n",
       "    <tr>\n",
       "      <th></th>\n",
       "      <th colspan=\"2\" halign=\"left\">Test</th>\n",
       "      <th colspan=\"2\" halign=\"left\">Train</th>\n",
       "      <th colspan=\"2\" halign=\"left\">Valid</th>\n",
       "      <th colspan=\"2\" halign=\"left\">Total</th>\n",
       "    </tr>\n",
       "    <tr>\n",
       "      <th>ED_visit</th>\n",
       "      <th>False</th>\n",
       "      <th>True</th>\n",
       "      <th>False</th>\n",
       "      <th>True</th>\n",
       "      <th>False</th>\n",
       "      <th>True</th>\n",
       "      <th>False</th>\n",
       "      <th>True</th>\n",
       "    </tr>\n",
       "  </thead>\n",
       "  <tbody>\n",
       "    <tr>\n",
       "      <th>ED_visit</th>\n",
       "      <td>960</td>\n",
       "      <td>148</td>\n",
       "      <td>5225</td>\n",
       "      <td>513</td>\n",
       "      <td>1281</td>\n",
       "      <td>187</td>\n",
       "      <td>7466</td>\n",
       "      <td>848</td>\n",
       "    </tr>\n",
       "  </tbody>\n",
       "</table>\n",
       "</div>"
      ],
      "text/plain": [
       "          Test       Train       Valid       Total      \n",
       "ED_visit False True  False True  False True  False True \n",
       "ED_visit   960   148  5225   513  1281   187  7466   848"
      ]
     },
     "execution_count": 186,
     "metadata": {},
     "output_type": "execute_result"
    }
   ],
   "source": [
    "get_label_distribution(Y, metainfo, with_respect_to='sessions')"
   ]
  },
  {
   "cell_type": "code",
   "execution_count": 187,
   "metadata": {},
   "outputs": [
    {
     "data": {
      "text/html": [
       "<div>\n",
       "<style scoped>\n",
       "    .dataframe tbody tr th:only-of-type {\n",
       "        vertical-align: middle;\n",
       "    }\n",
       "\n",
       "    .dataframe tbody tr th {\n",
       "        vertical-align: top;\n",
       "    }\n",
       "\n",
       "    .dataframe thead tr th {\n",
       "        text-align: left;\n",
       "    }\n",
       "</style>\n",
       "<table border=\"1\" class=\"dataframe\">\n",
       "  <thead>\n",
       "    <tr>\n",
       "      <th></th>\n",
       "      <th colspan=\"2\" halign=\"left\">Test</th>\n",
       "      <th colspan=\"2\" halign=\"left\">Train</th>\n",
       "      <th colspan=\"2\" halign=\"left\">Valid</th>\n",
       "      <th colspan=\"2\" halign=\"left\">Total</th>\n",
       "    </tr>\n",
       "    <tr>\n",
       "      <th></th>\n",
       "      <th>1</th>\n",
       "      <th>0</th>\n",
       "      <th>1</th>\n",
       "      <th>0</th>\n",
       "      <th>1</th>\n",
       "      <th>0</th>\n",
       "      <th>1</th>\n",
       "      <th>0</th>\n",
       "    </tr>\n",
       "  </thead>\n",
       "  <tbody>\n",
       "    <tr>\n",
       "      <th>ED_visit</th>\n",
       "      <td>75</td>\n",
       "      <td>270</td>\n",
       "      <td>247</td>\n",
       "      <td>776</td>\n",
       "      <td>79</td>\n",
       "      <td>177</td>\n",
       "      <td>401</td>\n",
       "      <td>1223</td>\n",
       "    </tr>\n",
       "  </tbody>\n",
       "</table>\n",
       "</div>"
      ],
      "text/plain": [
       "         Test      Train      Valid      Total      \n",
       "            1    0     1    0     1    0     1     0\n",
       "ED_visit   75  270   247  776    79  177   401  1223"
      ]
     },
     "execution_count": 187,
     "metadata": {},
     "output_type": "execute_result"
    }
   ],
   "source": [
    "get_label_distribution(Y, metainfo, with_respect_to='patients')"
   ]
  },
  {
   "cell_type": "code",
   "execution_count": 188,
   "metadata": {},
   "outputs": [
    {
     "data": {
      "text/html": [
       "<div>\n",
       "<style scoped>\n",
       "    .dataframe tbody tr th:only-of-type {\n",
       "        vertical-align: middle;\n",
       "    }\n",
       "\n",
       "    .dataframe tbody tr th {\n",
       "        vertical-align: top;\n",
       "    }\n",
       "\n",
       "    .dataframe thead th {\n",
       "        text-align: right;\n",
       "    }\n",
       "</style>\n",
       "<table border=\"1\" class=\"dataframe\">\n",
       "  <thead>\n",
       "    <tr style=\"text-align: right;\">\n",
       "      <th></th>\n",
       "      <th>Features</th>\n",
       "      <th>Group</th>\n",
       "      <th>Mean (SD)</th>\n",
       "      <th>Missingness (%)</th>\n",
       "    </tr>\n",
       "  </thead>\n",
       "  <tbody>\n",
       "    <tr>\n",
       "      <th>104</th>\n",
       "      <td>Mean Corpuscular Volume Change</td>\n",
       "      <td>Laboratory</td>\n",
       "      <td>0.463 (2.434)</td>\n",
       "      <td>64.4</td>\n",
       "    </tr>\n",
       "    <tr>\n",
       "      <th>22</th>\n",
       "      <td>Topography ICD-0-3 C18, Colon</td>\n",
       "      <td>Cancer</td>\n",
       "      <td>0.223 (0.417)</td>\n",
       "      <td>0.0</td>\n",
       "    </tr>\n",
       "    <tr>\n",
       "      <th>146</th>\n",
       "      <td>Intent of Systemic Treatment Neoadjuvant</td>\n",
       "      <td>Treatment</td>\n",
       "      <td>0.085 (0.279)</td>\n",
       "      <td>0.0</td>\n",
       "    </tr>\n",
       "    <tr>\n",
       "      <th>66</th>\n",
       "      <td>Neutrophil (x10e9/L)</td>\n",
       "      <td>Laboratory</td>\n",
       "      <td>3.498 (2.406)</td>\n",
       "      <td>49.4</td>\n",
       "    </tr>\n",
       "    <tr>\n",
       "      <th>65</th>\n",
       "      <td>Monocyte (x10e9/L)</td>\n",
       "      <td>Laboratory</td>\n",
       "      <td>0.613 (0.352)</td>\n",
       "      <td>49.8</td>\n",
       "    </tr>\n",
       "    <tr>\n",
       "      <th>35</th>\n",
       "      <td>Topography ICD-0-3 C38, Heart, mediastinum, an...</td>\n",
       "      <td>Cancer</td>\n",
       "      <td>0.000 (0.000)</td>\n",
       "      <td>0.0</td>\n",
       "    </tr>\n",
       "    <tr>\n",
       "      <th>100</th>\n",
       "      <td>Lactate Dehydrogenase Change</td>\n",
       "      <td>Laboratory</td>\n",
       "      <td>-0.001 (0.171)</td>\n",
       "      <td>69.6</td>\n",
       "    </tr>\n",
       "    <tr>\n",
       "      <th>138</th>\n",
       "      <td>Regimen GI-MITOFU</td>\n",
       "      <td>Treatment</td>\n",
       "      <td>0.026 (0.159)</td>\n",
       "      <td>0.0</td>\n",
       "    </tr>\n",
       "    <tr>\n",
       "      <th>102</th>\n",
       "      <td>Magnesium Change</td>\n",
       "      <td>Laboratory</td>\n",
       "      <td>-0.008 (0.390)</td>\n",
       "      <td>67.9</td>\n",
       "    </tr>\n",
       "    <tr>\n",
       "      <th>68</th>\n",
       "      <td>Platelet (x10e9/L)</td>\n",
       "      <td>Laboratory</td>\n",
       "      <td>231.512 (129.999)</td>\n",
       "      <td>49.4</td>\n",
       "    </tr>\n",
       "  </tbody>\n",
       "</table>\n",
       "</div>"
      ],
      "text/plain": [
       "                                              Features       Group  \\\n",
       "104                     Mean Corpuscular Volume Change  Laboratory   \n",
       "22                       Topography ICD-0-3 C18, Colon      Cancer   \n",
       "146           Intent of Systemic Treatment Neoadjuvant   Treatment   \n",
       "66                                Neutrophil (x10e9/L)  Laboratory   \n",
       "65                                  Monocyte (x10e9/L)  Laboratory   \n",
       "35   Topography ICD-0-3 C38, Heart, mediastinum, an...      Cancer   \n",
       "100                       Lactate Dehydrogenase Change  Laboratory   \n",
       "138                                  Regimen GI-MITOFU   Treatment   \n",
       "102                                   Magnesium Change  Laboratory   \n",
       "68                                  Platelet (x10e9/L)  Laboratory   \n",
       "\n",
       "             Mean (SD)  Missingness (%)  \n",
       "104      0.463 (2.434)             64.4  \n",
       "22       0.223 (0.417)              0.0  \n",
       "146      0.085 (0.279)              0.0  \n",
       "66       3.498 (2.406)             49.4  \n",
       "65       0.613 (0.352)             49.8  \n",
       "35       0.000 (0.000)              0.0  \n",
       "100     -0.001 (0.171)             69.6  \n",
       "138      0.026 (0.159)              0.0  \n",
       "102     -0.008 (0.390)             67.9  \n",
       "68   231.512 (129.999)             49.4  "
      ]
     },
     "execution_count": 188,
     "metadata": {},
     "output_type": "execute_result"
    }
   ],
   "source": [
    "# Feature Characteristics\n",
    "x = prep.ohe.encode(df.loc[X_train.index].copy(), verbose=False) # get original (non-normalized, non-imputed) data one-hot encoded\n",
    "x = x[[col for col in x.columns if not (col in metainfo.columns or col.startswith('target'))]]\n",
    "feature_summary(x, save_path='result/tables/feature_summary_ED_clinic_anchored.csv').sample(10, random_state=42)"
   ]
  },
  {
   "cell_type": "markdown",
   "metadata": {},
   "source": [
    "## Train Model - Quick and Dirty"
   ]
  },
  {
   "cell_type": "code",
   "execution_count": 194,
   "metadata": {},
   "outputs": [],
   "source": [
    "from collections import defaultdict\n",
    "from functools import partial\n",
    "from bayes_opt import BayesianOptimization\n",
    "from lightgbm import LGBMClassifier\n",
    "from sklearn.linear_model import LogisticRegression\n",
    "from sklearn.metrics import average_precision_score, roc_auc_score\n",
    "from xgboost import XGBClassifier"
   ]
  },
  {
   "cell_type": "code",
   "execution_count": 189,
   "metadata": {},
   "outputs": [],
   "source": [
    "targets = Y.columns\n",
    "\n",
    "# LGBM does not like non alphanumeric characters (except for _)\n",
    "for char in ['(', ')', '+', '-', '/', ',']: \n",
    "    X_train.columns = X_train.columns.str.replace(char, '_')\n",
    "    X_valid.columns = X_valid.columns.str.replace(char, '_')\n",
    "    X_test.columns = X_test.columns.str.replace(char, '_')"
   ]
  },
  {
   "cell_type": "code",
   "execution_count": 191,
   "metadata": {},
   "outputs": [],
   "source": [
    "# hyperparameter tuning\n",
    "algs = {\n",
    "    'LR': LogisticRegression,\n",
    "    'XGB': XGBClassifier,\n",
    "    'LGBM': LGBMClassifier\n",
    "}\n",
    "bayesopt_param = {\n",
    "    'LR': {'init_points': 2, 'n_iter': 10}, \n",
    "    'XGB': {'init_points': 15, 'n_iter': 100},\n",
    "    'LGBM': {'init_points': 20, 'n_iter': 200},\n",
    "}\n",
    "model_static_param = {\n",
    "    'LR': {\n",
    "        'penalty': 'l2', \n",
    "        'class_weight': 'balanced', \n",
    "        'max_iter': 2000,\n",
    "        'random_state': 42\n",
    "    },\n",
    "    'XGB': {\n",
    "        'random_state': 42\n",
    "    },\n",
    "    'LGBM': {\n",
    "        'random_state': 42,\n",
    "        'verbosity': -1\n",
    "    }\n",
    "}\n",
    "model_tuning_param = {\n",
    "    'LR': {\n",
    "        'C': (0.0001, 1)\n",
    "    },\n",
    "    'XGB': {\n",
    "        'n_estimators': (50, 200),\n",
    "        'max_depth': (3, 7),\n",
    "        'learning_rate': (0.01, 0.3),\n",
    "        'min_split_loss': (0, 0.5),\n",
    "        'min_child_weight': (6, 100),\n",
    "        'reg_lambda': (0, 1),\n",
    "        'reg_alpha': (0, 1000)\n",
    "    },\n",
    "    'LGBM': {\n",
    "        'n_estimators': (50, 200),\n",
    "        'max_depth': (3, 7),\n",
    "        'learning_rate': (0.01, 0.3),\n",
    "        'num_leaves': (20, 40),\n",
    "        'min_data_in_leaf': (6, 30),\n",
    "        'feature_fraction': (0.5, 1),\n",
    "        'bagging_fraction': (0.5, 1),\n",
    "        'bagging_freq': (0, 10),\n",
    "        'reg_lambda': (0, 1),\n",
    "        'reg_alpha': (0, 1000)\n",
    "    }\n",
    "}\n",
    "def convert_params(params):\n",
    "    # convert necessary hyperparams to integers\n",
    "    for param in ['n_estimators', 'max_depth', 'num_leaves', 'min_data_in_leaf', 'min_child_weight', 'bagging_freq']:\n",
    "        if param in params: params[param] = int(params[param])\n",
    "    return params\n",
    "\n",
    "def eval_func(alg, data, **kwargs):\n",
    "    train_X, train_Y, valid_X, valid_Y = data\n",
    "    kwargs = convert_params(kwargs)\n",
    "    model = algs[alg](**kwargs, **model_static_param[alg])\n",
    "    model.fit(train_X, train_Y)\n",
    "    assert model.classes_[1] == 1 # positive class is at index 1\n",
    "    pred = model.predict_proba(valid_X)[: ,1]\n",
    "    return roc_auc_score(valid_Y, pred)"
   ]
  },
  {
   "cell_type": "code",
   "execution_count": null,
   "metadata": {},
   "outputs": [],
   "source": [
    "%%capture\n",
    "best_params = {}\n",
    "for target in targets:\n",
    "    for alg, optim_config in bayesopt_param.items():\n",
    "        hyperparam_config = model_tuning_param[alg]\n",
    "        data = (X_train, Y_train[target], X_valid, Y_valid[target])\n",
    "        bo = BayesianOptimization(\n",
    "            f=partial(eval_func, alg=alg, data=data),\n",
    "            pbounds=hyperparam_config,\n",
    "            verbose=2,\n",
    "            random_state=42\n",
    "        )\n",
    "        bo.maximize(**optim_config)\n",
    "        best_param = bo.max['params']\n",
    "        best_param = convert_params(best_param)\n",
    "        best_params[f'{alg}_{target}'] = best_param\n",
    "save_pickle(best_params, save_dir='./models', filename='best_params')"
   ]
  },
  {
   "cell_type": "code",
   "execution_count": 195,
   "metadata": {},
   "outputs": [],
   "source": [
    "best_params = load_pickle('./models', 'best_params')\n",
    "models = defaultdict(dict)\n",
    "for target in targets:\n",
    "    for alg in algs:\n",
    "        model = algs[alg](**best_params[f'{alg}_{target}'], **model_static_param[alg])\n",
    "        model.fit(X_train, Y_train[target])\n",
    "        models[alg][target] = model"
   ]
  },
  {
   "cell_type": "code",
   "execution_count": 196,
   "metadata": {},
   "outputs": [],
   "source": [
    "def evaluate(model, X, Y):\n",
    "    result = {}\n",
    "    for target, label in Y.items():\n",
    "        # check model.classes_ to confirm prediction of positive label is at index 1\n",
    "        pred = model[target].predict_proba(X)[: ,1]\n",
    "        auprc = average_precision_score(label, pred)\n",
    "        auroc = roc_auc_score(label, pred)\n",
    "        result[target] = {'AUPRC': auprc, 'AUROC': auroc}\n",
    "    return pd.DataFrame(result)"
   ]
  },
  {
   "cell_type": "code",
   "execution_count": 197,
   "metadata": {},
   "outputs": [
    {
     "data": {
      "text/html": [
       "<div>\n",
       "<style scoped>\n",
       "    .dataframe tbody tr th:only-of-type {\n",
       "        vertical-align: middle;\n",
       "    }\n",
       "\n",
       "    .dataframe tbody tr th {\n",
       "        vertical-align: top;\n",
       "    }\n",
       "\n",
       "    .dataframe thead tr th {\n",
       "        text-align: left;\n",
       "    }\n",
       "</style>\n",
       "<table border=\"1\" class=\"dataframe\">\n",
       "  <thead>\n",
       "    <tr>\n",
       "      <th></th>\n",
       "      <th colspan=\"2\" halign=\"left\">LR</th>\n",
       "      <th colspan=\"2\" halign=\"left\">XGB</th>\n",
       "      <th colspan=\"2\" halign=\"left\">LGBM</th>\n",
       "    </tr>\n",
       "    <tr>\n",
       "      <th></th>\n",
       "      <th>AUPRC</th>\n",
       "      <th>AUROC</th>\n",
       "      <th>AUPRC</th>\n",
       "      <th>AUROC</th>\n",
       "      <th>AUPRC</th>\n",
       "      <th>AUROC</th>\n",
       "    </tr>\n",
       "  </thead>\n",
       "  <tbody>\n",
       "    <tr>\n",
       "      <th>ED_visit</th>\n",
       "      <td>0.279957</td>\n",
       "      <td>0.694661</td>\n",
       "      <td>0.251173</td>\n",
       "      <td>0.726619</td>\n",
       "      <td>0.373144</td>\n",
       "      <td>0.751364</td>\n",
       "    </tr>\n",
       "  </tbody>\n",
       "</table>\n",
       "</div>"
      ],
      "text/plain": [
       "                LR                 XGB                LGBM          \n",
       "             AUPRC     AUROC     AUPRC     AUROC     AUPRC     AUROC\n",
       "ED_visit  0.279957  0.694661  0.251173  0.726619  0.373144  0.751364"
      ]
     },
     "execution_count": 197,
     "metadata": {},
     "output_type": "execute_result"
    }
   ],
   "source": [
    "pd.concat([evaluate(model, X_valid, Y_valid) for alg, model in models.items()], keys=models.keys()).T"
   ]
  },
  {
   "cell_type": "code",
   "execution_count": 198,
   "metadata": {},
   "outputs": [
    {
     "data": {
      "text/html": [
       "<div>\n",
       "<style scoped>\n",
       "    .dataframe tbody tr th:only-of-type {\n",
       "        vertical-align: middle;\n",
       "    }\n",
       "\n",
       "    .dataframe tbody tr th {\n",
       "        vertical-align: top;\n",
       "    }\n",
       "\n",
       "    .dataframe thead tr th {\n",
       "        text-align: left;\n",
       "    }\n",
       "</style>\n",
       "<table border=\"1\" class=\"dataframe\">\n",
       "  <thead>\n",
       "    <tr>\n",
       "      <th></th>\n",
       "      <th colspan=\"2\" halign=\"left\">LR</th>\n",
       "      <th colspan=\"2\" halign=\"left\">XGB</th>\n",
       "      <th colspan=\"2\" halign=\"left\">LGBM</th>\n",
       "    </tr>\n",
       "    <tr>\n",
       "      <th></th>\n",
       "      <th>AUPRC</th>\n",
       "      <th>AUROC</th>\n",
       "      <th>AUPRC</th>\n",
       "      <th>AUROC</th>\n",
       "      <th>AUPRC</th>\n",
       "      <th>AUROC</th>\n",
       "    </tr>\n",
       "  </thead>\n",
       "  <tbody>\n",
       "    <tr>\n",
       "      <th>ED_visit</th>\n",
       "      <td>0.185906</td>\n",
       "      <td>0.582489</td>\n",
       "      <td>0.203915</td>\n",
       "      <td>0.667029</td>\n",
       "      <td>0.221928</td>\n",
       "      <td>0.666649</td>\n",
       "    </tr>\n",
       "  </tbody>\n",
       "</table>\n",
       "</div>"
      ],
      "text/plain": [
       "                LR                 XGB                LGBM          \n",
       "             AUPRC     AUROC     AUPRC     AUROC     AUPRC     AUROC\n",
       "ED_visit  0.185906  0.582489  0.203915  0.667029  0.221928  0.666649"
      ]
     },
     "execution_count": 198,
     "metadata": {},
     "output_type": "execute_result"
    }
   ],
   "source": [
    "pd.concat([evaluate(model, X_test, Y_test) for alg, model in models.items()], keys=models.keys()).T"
   ]
  }
 ],
 "metadata": {
  "kernelspec": {
   "display_name": "aim2reduce",
   "language": "python",
   "name": "python3"
  },
  "language_info": {
   "codemirror_mode": {
    "name": "ipython",
    "version": 3
   },
   "file_extension": ".py",
   "mimetype": "text/x-python",
   "name": "python",
   "nbconvert_exporter": "python",
   "pygments_lexer": "ipython3",
   "version": "3.11.8"
  }
 },
 "nbformat": 4,
 "nbformat_minor": 2
}
