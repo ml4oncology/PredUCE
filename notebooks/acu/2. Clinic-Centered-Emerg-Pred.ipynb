{
 "cells": [
  {
   "cell_type": "markdown",
   "metadata": {},
   "source": [
    "# Predicting emergency department visits anchored on clinic dates\n",
    "---\n",
    "## Background\n",
    "Before, we built a model to predict emergency department (ED) visits anchored on treatment dates.\n",
    "\n",
    "The problem with that is the primary physicians do not interact with their patients during their treatment sessions. They only meet during their clinic visits. That is the best time for the model to nudge the physician for an intervention. Thus, we now want to build a model to predict patient's risk of ED visits prior to clinic date instead of prior to treatment session.\n",
    "\n",
    "---"
   ]
  },
  {
   "cell_type": "code",
   "execution_count": 6,
   "metadata": {},
   "outputs": [],
   "source": [
    "%%capture\n",
    "%cd ../../\n",
    "%load_ext autoreload\n",
    "%autoreload 2"
   ]
  },
  {
   "cell_type": "code",
   "execution_count": 7,
   "metadata": {},
   "outputs": [],
   "source": [
    "import logging\n",
    "\n",
    "import pandas as pd\n",
    "from datetime import datetime\n",
    "\n",
    "from ml_common.util import load_pickle, save_pickle\n",
    "\n",
    "from preduce.acu.eval import evaluate_valid, evaluate_test, predict\n",
    "from preduce.acu.pipeline import PrepACUData\n",
    "from preduce.acu.train import train_models, tune_params\n",
    "from preduce.summarize import feature_summary, get_label_distribution\n",
    "from preduce.util import compute_threshold\n",
    "\n",
    "pd.set_option('display.max_rows', 150)\n",
    "pd.set_option('display.max_columns', 100)\n",
    "\n",
    "logging.basicConfig(\n",
    "    level=logging.INFO, \n",
    "    format='%(levelname)s:%(message)s', \n",
    ")"
   ]
  },
  {
   "cell_type": "markdown",
   "metadata": {},
   "source": [
    "## Load feature data"
   ]
  },
  {
   "cell_type": "code",
   "execution_count": 8,
   "metadata": {},
   "outputs": [],
   "source": [
    "df = pd.read_parquet('./data/processed/clinic_centered_feature_dataset.parquet.gzip')\n",
    "df['assessment_date'] = df['clinic_date']\n",
    "emerg = pd.read_parquet('./data/interim/emergency_room_visit.parquet.gzip')"
   ]
  },
  {
   "cell_type": "markdown",
   "metadata": {},
   "source": [
    "## Prepare Data"
   ]
  },
  {
   "cell_type": "code",
   "execution_count": 9,
   "metadata": {},
   "outputs": [
    {
     "name": "stderr",
     "output_type": "stream",
     "text": [
      "INFO:Removing 0 patients and 2555 sessions not first of a given week\n",
      "INFO:Removing 2858 patients and 13029 sessions before 2012-01-01 and after 2019-12-31\n",
      "INFO:Removing the following features for drugs given less than 10 times: ['%_ideal_dose_given_DURVALUMAB', '%_ideal_dose_given_IPILIMUMAB', '%_ideal_dose_given_CAPECITABINE', '%_ideal_dose_given_ERLOTINIB']\n",
      "INFO:Removing 2671 patients and 13461 sessions not from GI department\n",
      "INFO:Dropping the following 13 features for missingness over 80%: ['bicarbonate_change', 'basophil', 'carbohydrate_antigen_19-9', 'basophil_change', 'prothrombin_time_international_normalized_ratio', 'activated_partial_thromboplastin_time', 'carbohydrate_antigen_19-9_change', 'prothrombin_time_international_normalized_ratio_change', 'activated_partial_thromboplastin_time_change', 'carcinoembryonic_antigen', 'esas_diarrhea', 'esas_vomiting', 'esas_constipation']\n",
      "INFO:Removing 115 patients and 1387 sessions with at least 80 percent of features missing\n",
      "INFO:Reassigning the following 24 indicators with less than 6 patients as other: ['cancer_site_C00', 'cancer_site_C01', 'cancer_site_C02', 'cancer_site_C03', 'cancer_site_C04', 'cancer_site_C05', 'cancer_site_C06', 'cancer_site_C07', 'cancer_site_C08', 'cancer_site_C09', 'cancer_site_C10', 'cancer_site_C11', 'cancer_site_C12', 'cancer_site_C13', 'cancer_site_C14', 'cancer_site_C26', 'cancer_site_C30', 'cancer_site_C31', 'cancer_site_C32', 'cancer_site_C37', 'cancer_site_C38', 'cancer_site_C48', 'cancer_site_C62', 'cancer_site_C76']\n",
      "INFO:No rare categories for morphology was found\n",
      "INFO:Removing 0 patients and 837 sessions that occured after 2018-02-01 in the development cohort\n",
      "INFO:Removing 1 patients and 38 sessions in which patient had a target event in less than 2 days.\n",
      "INFO:One-hot encoding training data\n",
      "INFO:Reassigning the following 16 indicators with less than 6 patients as other: ['regimen_GI-CISPFU + TRAS(LOAD)', 'regimen_GI-CISPFU ANAL', 'regimen_GI-DOCEQ3W', 'regimen_GI-DOXO', 'regimen_GI-ELF', 'regimen_GI-EOX', 'regimen_GI-FOLFNALIRI', 'regimen_GI-FOLFNALIRI (COMP)', 'regimen_GI-FOLFOX (GASTRIC)', 'regimen_GI-FU/FA/CISP BILIARY', 'regimen_GI-FUFA C3 (GASTRIC)', 'regimen_GI-FUFA-5 DAYS', 'regimen_GI-GEM D1,8 + CAPECIT', 'regimen_GI-GEMFU (BILIARY)', 'regimen_GI-IRINO 4-WEEKLY', 'regimen_GI-PACLI WEEKLY']\n",
      "INFO:No rare categories for intent was found\n",
      "INFO:One-hot encoding testing data\n",
      "INFO:Reassigning the following regimen indicator columns that did not exist in train set as other:\n",
      "regimen_GI-CISPFU + TRAS(LOAD)      2\n",
      "regimen_GI-DOCEQ3W                  2\n",
      "regimen_GI-FOLFIRI+PANITUMUMAB      9\n",
      "regimen_GI-FOLFNALIRI (COMP)       21\n",
      "regimen_GI-FOLFOX (GASTRIC)       163\n",
      "regimen_GI-GEM D1,8 + CAPECIT       3\n",
      "regimen_GI-GEM+OXALI (BILIARY)      1\n",
      "regimen_GI-PACLI WEEKLY             8\n",
      "dtype: int64\n"
     ]
    }
   ],
   "source": [
    "prep = PrepACUData()\n",
    "df = prep.preprocess(df, emerg)\n",
    "X, Y, metainfo = prep.prepare(df, event_name='ED_visit')\n",
    "df = df.loc[X.index]"
   ]
  },
  {
   "cell_type": "code",
   "execution_count": 10,
   "metadata": {},
   "outputs": [],
   "source": [
    "train_mask, test_mask = metainfo['split'] == 'Train', metainfo['split'] == 'Test'\n",
    "X_train, X_test = X[train_mask], X[test_mask]\n",
    "Y_train, Y_test = Y[train_mask], Y[test_mask]\n",
    "metainfo_train, metainfo_test = metainfo[train_mask], metainfo[test_mask]"
   ]
  },
  {
   "cell_type": "code",
   "execution_count": 11,
   "metadata": {},
   "outputs": [],
   "source": [
    "# Save the data prep for silent deployment\n",
    "# So we transform new incoming data using the original data preparer\n",
    "save_pickle(prep, './result', 'prep_ED_visit_clinic_anchored')"
   ]
  },
  {
   "cell_type": "markdown",
   "metadata": {},
   "source": [
    "## Describe Data"
   ]
  },
  {
   "cell_type": "code",
   "execution_count": 12,
   "metadata": {},
   "outputs": [
    {
     "name": "stdout",
     "output_type": "stream",
     "text": [
      "\n",
      "split               Test  Train  Total\n",
      "Number of sessions  1988   8017  10005\n",
      "Number of patients   424   1804   2228\n"
     ]
    }
   ],
   "source": [
    "count = pd.DataFrame({\n",
    "    'Number of sessions': metainfo.groupby('split').apply(len, include_groups=False), \n",
    "    'Number of patients': metainfo.groupby('split')['mrn'].nunique()}\n",
    ").T\n",
    "count['Total'] = count.sum(axis=1)\n",
    "print(f'\\n{count.to_string()}')"
   ]
  },
  {
   "cell_type": "code",
   "execution_count": 13,
   "metadata": {},
   "outputs": [
    {
     "data": {
      "text/html": [
       "<div>\n",
       "<style scoped>\n",
       "    .dataframe tbody tr th:only-of-type {\n",
       "        vertical-align: middle;\n",
       "    }\n",
       "\n",
       "    .dataframe tbody tr th {\n",
       "        vertical-align: top;\n",
       "    }\n",
       "\n",
       "    .dataframe thead tr th {\n",
       "        text-align: left;\n",
       "    }\n",
       "</style>\n",
       "<table border=\"1\" class=\"dataframe\">\n",
       "  <thead>\n",
       "    <tr>\n",
       "      <th></th>\n",
       "      <th></th>\n",
       "      <th colspan=\"2\" halign=\"left\">Total</th>\n",
       "      <th colspan=\"2\" halign=\"left\">Test</th>\n",
       "      <th colspan=\"2\" halign=\"left\">Train</th>\n",
       "    </tr>\n",
       "    <tr>\n",
       "      <th></th>\n",
       "      <th>ED_visit</th>\n",
       "      <th>False</th>\n",
       "      <th>True</th>\n",
       "      <th>False</th>\n",
       "      <th>True</th>\n",
       "      <th>False</th>\n",
       "      <th>True</th>\n",
       "    </tr>\n",
       "  </thead>\n",
       "  <tbody>\n",
       "    <tr>\n",
       "      <th>First Visit</th>\n",
       "      <th>ED_visit</th>\n",
       "      <td>1563</td>\n",
       "      <td>294</td>\n",
       "      <td>293</td>\n",
       "      <td>56</td>\n",
       "      <td>1270</td>\n",
       "      <td>238</td>\n",
       "    </tr>\n",
       "    <tr>\n",
       "      <th>Subsequent Visit</th>\n",
       "      <th>ED_visit</th>\n",
       "      <td>7397</td>\n",
       "      <td>751</td>\n",
       "      <td>1475</td>\n",
       "      <td>164</td>\n",
       "      <td>5922</td>\n",
       "      <td>587</td>\n",
       "    </tr>\n",
       "    <tr>\n",
       "      <th>All</th>\n",
       "      <th>ED_visit</th>\n",
       "      <td>8960</td>\n",
       "      <td>1045</td>\n",
       "      <td>1768</td>\n",
       "      <td>220</td>\n",
       "      <td>7192</td>\n",
       "      <td>825</td>\n",
       "    </tr>\n",
       "  </tbody>\n",
       "</table>\n",
       "</div>"
      ],
      "text/plain": [
       "                          Total        Test       Train      \n",
       "ED_visit                  False True  False True  False True \n",
       "First Visit      ED_visit  1563   294   293    56  1270   238\n",
       "Subsequent Visit ED_visit  7397   751  1475   164  5922   587\n",
       "All              ED_visit  8960  1045  1768   220  7192   825"
      ]
     },
     "execution_count": 13,
     "metadata": {},
     "output_type": "execute_result"
    }
   ],
   "source": [
    "no_trts_prior = df['treatment_date'].isnull()\n",
    "pd.concat([\n",
    "    get_label_distribution(Y[no_trts_prior], metainfo[no_trts_prior], with_respect_to='sessions'),\n",
    "    get_label_distribution(Y[~no_trts_prior], metainfo[~no_trts_prior], with_respect_to='sessions'),\n",
    "    get_label_distribution(Y, metainfo, with_respect_to='sessions')\n",
    "], keys=['First Visit', 'Subsequent Visit', 'All'])"
   ]
  },
  {
   "cell_type": "code",
   "execution_count": 14,
   "metadata": {},
   "outputs": [
    {
     "data": {
      "text/html": [
       "<div>\n",
       "<style scoped>\n",
       "    .dataframe tbody tr th:only-of-type {\n",
       "        vertical-align: middle;\n",
       "    }\n",
       "\n",
       "    .dataframe tbody tr th {\n",
       "        vertical-align: top;\n",
       "    }\n",
       "\n",
       "    .dataframe thead tr th {\n",
       "        text-align: left;\n",
       "    }\n",
       "</style>\n",
       "<table border=\"1\" class=\"dataframe\">\n",
       "  <thead>\n",
       "    <tr>\n",
       "      <th></th>\n",
       "      <th></th>\n",
       "      <th colspan=\"2\" halign=\"left\">Total</th>\n",
       "      <th colspan=\"2\" halign=\"left\">Test</th>\n",
       "      <th colspan=\"2\" halign=\"left\">Train</th>\n",
       "    </tr>\n",
       "    <tr>\n",
       "      <th></th>\n",
       "      <th></th>\n",
       "      <th>1</th>\n",
       "      <th>0</th>\n",
       "      <th>1</th>\n",
       "      <th>0</th>\n",
       "      <th>1</th>\n",
       "      <th>0</th>\n",
       "    </tr>\n",
       "  </thead>\n",
       "  <tbody>\n",
       "    <tr>\n",
       "      <th>First Visit</th>\n",
       "      <th>ED_visit</th>\n",
       "      <td>278</td>\n",
       "      <td>1167</td>\n",
       "      <td>53</td>\n",
       "      <td>221</td>\n",
       "      <td>225</td>\n",
       "      <td>946</td>\n",
       "    </tr>\n",
       "    <tr>\n",
       "      <th>Subsequent Visit</th>\n",
       "      <th>ED_visit</th>\n",
       "      <td>476</td>\n",
       "      <td>1523</td>\n",
       "      <td>102</td>\n",
       "      <td>285</td>\n",
       "      <td>374</td>\n",
       "      <td>1238</td>\n",
       "    </tr>\n",
       "    <tr>\n",
       "      <th>All</th>\n",
       "      <th>ED_visit</th>\n",
       "      <td>627</td>\n",
       "      <td>1601</td>\n",
       "      <td>132</td>\n",
       "      <td>292</td>\n",
       "      <td>495</td>\n",
       "      <td>1309</td>\n",
       "    </tr>\n",
       "  </tbody>\n",
       "</table>\n",
       "</div>"
      ],
      "text/plain": [
       "                          Total       Test      Train      \n",
       "                              1     0    1    0     1     0\n",
       "First Visit      ED_visit   278  1167   53  221   225   946\n",
       "Subsequent Visit ED_visit   476  1523  102  285   374  1238\n",
       "All              ED_visit   627  1601  132  292   495  1309"
      ]
     },
     "execution_count": 14,
     "metadata": {},
     "output_type": "execute_result"
    }
   ],
   "source": [
    "pd.concat([\n",
    "    get_label_distribution(Y[no_trts_prior], metainfo[no_trts_prior], with_respect_to='patients'),\n",
    "    get_label_distribution(Y[~no_trts_prior], metainfo[~no_trts_prior], with_respect_to='patients'),\n",
    "    get_label_distribution(Y, metainfo, with_respect_to='patients')\n",
    "], keys=['First Visit', 'Subsequent Visit', 'All'])"
   ]
  },
  {
   "cell_type": "code",
   "execution_count": 15,
   "metadata": {},
   "outputs": [
    {
     "data": {
      "text/html": [
       "<div>\n",
       "<style scoped>\n",
       "    .dataframe tbody tr th:only-of-type {\n",
       "        vertical-align: middle;\n",
       "    }\n",
       "\n",
       "    .dataframe tbody tr th {\n",
       "        vertical-align: top;\n",
       "    }\n",
       "\n",
       "    .dataframe thead th {\n",
       "        text-align: right;\n",
       "    }\n",
       "</style>\n",
       "<table border=\"1\" class=\"dataframe\">\n",
       "  <thead>\n",
       "    <tr style=\"text-align: right;\">\n",
       "      <th></th>\n",
       "      <th>Features</th>\n",
       "      <th>Group</th>\n",
       "      <th>Mean (SD)</th>\n",
       "      <th>Missingness (%)</th>\n",
       "    </tr>\n",
       "  </thead>\n",
       "  <tbody>\n",
       "    <tr>\n",
       "      <th>20</th>\n",
       "      <td>ESAS Pain Score</td>\n",
       "      <td>Symptoms</td>\n",
       "      <td>2.056 (2.366)</td>\n",
       "      <td>9.6</td>\n",
       "    </tr>\n",
       "    <tr>\n",
       "      <th>103</th>\n",
       "      <td>Regimen GI-CISPFU + TRAS(MAIN)</td>\n",
       "      <td>Treatment</td>\n",
       "      <td>0.003 (0.053)</td>\n",
       "      <td>0.0</td>\n",
       "    </tr>\n",
       "    <tr>\n",
       "      <th>17</th>\n",
       "      <td>Topography ICD-0-3 C25, Pancreas</td>\n",
       "      <td>Cancer</td>\n",
       "      <td>0.319 (0.466)</td>\n",
       "      <td>0.0</td>\n",
       "    </tr>\n",
       "    <tr>\n",
       "      <th>33</th>\n",
       "      <td>Aspartate Aminotransferase (U/L)</td>\n",
       "      <td>Laboratory</td>\n",
       "      <td>29.593 (24.500)</td>\n",
       "      <td>45.7</td>\n",
       "    </tr>\n",
       "    <tr>\n",
       "      <th>84</th>\n",
       "      <td>Potassium Change</td>\n",
       "      <td>Laboratory</td>\n",
       "      <td>-0.008 (0.432)</td>\n",
       "      <td>61.9</td>\n",
       "    </tr>\n",
       "    <tr>\n",
       "      <th>54</th>\n",
       "      <td>Red Cell Distribution Width (%CV)</td>\n",
       "      <td>Laboratory</td>\n",
       "      <td>16.997 (3.382)</td>\n",
       "      <td>43.5</td>\n",
       "    </tr>\n",
       "    <tr>\n",
       "      <th>53</th>\n",
       "      <td>Red Blood Cell (x10e12/L)</td>\n",
       "      <td>Laboratory</td>\n",
       "      <td>3.773 (0.580)</td>\n",
       "      <td>43.5</td>\n",
       "    </tr>\n",
       "    <tr>\n",
       "      <th>115</th>\n",
       "      <td>Regimen GI-FUFA C2 (GASTRIC)</td>\n",
       "      <td>Treatment</td>\n",
       "      <td>0.001 (0.039)</td>\n",
       "      <td>0.0</td>\n",
       "    </tr>\n",
       "    <tr>\n",
       "      <th>106</th>\n",
       "      <td>Regimen GI-ECX</td>\n",
       "      <td>Treatment</td>\n",
       "      <td>0.051 (0.220)</td>\n",
       "      <td>0.0</td>\n",
       "    </tr>\n",
       "    <tr>\n",
       "      <th>57</th>\n",
       "      <td>White Blood Cell (x10e9/L)</td>\n",
       "      <td>Laboratory</td>\n",
       "      <td>5.952 (3.331)</td>\n",
       "      <td>43.5</td>\n",
       "    </tr>\n",
       "  </tbody>\n",
       "</table>\n",
       "</div>"
      ],
      "text/plain": [
       "                              Features       Group        Mean (SD)  \\\n",
       "20                     ESAS Pain Score    Symptoms    2.056 (2.366)   \n",
       "103     Regimen GI-CISPFU + TRAS(MAIN)   Treatment    0.003 (0.053)   \n",
       "17    Topography ICD-0-3 C25, Pancreas      Cancer    0.319 (0.466)   \n",
       "33    Aspartate Aminotransferase (U/L)  Laboratory  29.593 (24.500)   \n",
       "84                    Potassium Change  Laboratory   -0.008 (0.432)   \n",
       "54   Red Cell Distribution Width (%CV)  Laboratory   16.997 (3.382)   \n",
       "53           Red Blood Cell (x10e12/L)  Laboratory    3.773 (0.580)   \n",
       "115       Regimen GI-FUFA C2 (GASTRIC)   Treatment    0.001 (0.039)   \n",
       "106                     Regimen GI-ECX   Treatment    0.051 (0.220)   \n",
       "57          White Blood Cell (x10e9/L)  Laboratory    5.952 (3.331)   \n",
       "\n",
       "     Missingness (%)  \n",
       "20               9.6  \n",
       "103              0.0  \n",
       "17               0.0  \n",
       "33              45.7  \n",
       "84              61.9  \n",
       "54              43.5  \n",
       "53              43.5  \n",
       "115              0.0  \n",
       "106              0.0  \n",
       "57              43.5  "
      ]
     },
     "execution_count": 15,
     "metadata": {},
     "output_type": "execute_result"
    }
   ],
   "source": [
    "# Feature Characteristics\n",
    "x = prep.ohe.encode(df.loc[X_train.index].copy(), verbose=False) # get original (non-normalized, non-imputed) data one-hot encoded\n",
    "x = x[[col for col in x.columns if not (col in metainfo.columns or col.startswith('target'))]]\n",
    "feature_summary(x, save_path='result/tables/feature_summary_ED_clinic_anchored.csv').sample(10, random_state=42)"
   ]
  },
  {
   "cell_type": "markdown",
   "metadata": {},
   "source": [
    "## Train Models"
   ]
  },
  {
   "cell_type": "code",
   "execution_count": 16,
   "metadata": {},
   "outputs": [],
   "source": [
    "# LGBM does not like non alphanumeric characters (except for _)\n",
    "for char in ['(', ')', '+', '-', '/', ',']: \n",
    "    X_train.columns = X_train.columns.str.replace(char, '_')\n",
    "    X_test.columns = X_test.columns.str.replace(char, '_')"
   ]
  },
  {
   "cell_type": "code",
   "execution_count": 81,
   "metadata": {},
   "outputs": [],
   "source": [
    "%%capture\n",
    "# Hyperparameter tuning\n",
    "# TODO: try greater kappa for greater exploration\n",
    "algs = ['LASSO', 'RF', 'Ridge', 'XGB', 'LGBM']\n",
    "best_params = {}\n",
    "for alg in algs:\n",
    "    best_params[alg] = tune_params(alg, X_train, Y_train['ED_visit'], metainfo_train)\n",
    "save_pickle(best_params, './models', 'best_params_clinic_anchored')\n",
    "save_pickle(best_params, './models', f'best_params_clinic_anchored-{datetime.now()}')"
   ]
  },
  {
   "cell_type": "code",
   "execution_count": 17,
   "metadata": {},
   "outputs": [],
   "source": [
    "best_params = load_pickle('./models', 'best_params_clinic_anchored')\n",
    "models = train_models(X_train, Y_train, metainfo_train, best_params)"
   ]
  },
  {
   "cell_type": "markdown",
   "metadata": {},
   "source": [
    "## Model Selection\n",
    "Select final model based on the average performance across the validation folds"
   ]
  },
  {
   "cell_type": "code",
   "execution_count": 18,
   "metadata": {},
   "outputs": [
    {
     "data": {
      "text/html": [
       "<div>\n",
       "<style scoped>\n",
       "    .dataframe tbody tr th:only-of-type {\n",
       "        vertical-align: middle;\n",
       "    }\n",
       "\n",
       "    .dataframe tbody tr th {\n",
       "        vertical-align: top;\n",
       "    }\n",
       "\n",
       "    .dataframe thead tr th {\n",
       "        text-align: left;\n",
       "    }\n",
       "</style>\n",
       "<table border=\"1\" class=\"dataframe\">\n",
       "  <thead>\n",
       "    <tr>\n",
       "      <th></th>\n",
       "      <th colspan=\"2\" halign=\"left\">Ridge</th>\n",
       "      <th colspan=\"2\" halign=\"left\">LASSO</th>\n",
       "      <th colspan=\"2\" halign=\"left\">XGB</th>\n",
       "      <th colspan=\"2\" halign=\"left\">LGBM</th>\n",
       "      <th colspan=\"2\" halign=\"left\">RF</th>\n",
       "    </tr>\n",
       "    <tr>\n",
       "      <th></th>\n",
       "      <th>AUPRC</th>\n",
       "      <th>AUROC</th>\n",
       "      <th>AUPRC</th>\n",
       "      <th>AUROC</th>\n",
       "      <th>AUPRC</th>\n",
       "      <th>AUROC</th>\n",
       "      <th>AUPRC</th>\n",
       "      <th>AUROC</th>\n",
       "      <th>AUPRC</th>\n",
       "      <th>AUROC</th>\n",
       "    </tr>\n",
       "  </thead>\n",
       "  <tbody>\n",
       "    <tr>\n",
       "      <th>ED_visit</th>\n",
       "      <td>0.294047</td>\n",
       "      <td>0.798646</td>\n",
       "      <td>0.28843</td>\n",
       "      <td>0.797692</td>\n",
       "      <td>0.605714</td>\n",
       "      <td>0.936005</td>\n",
       "      <td>0.285457</td>\n",
       "      <td>0.775399</td>\n",
       "      <td>0.369115</td>\n",
       "      <td>0.819199</td>\n",
       "    </tr>\n",
       "  </tbody>\n",
       "</table>\n",
       "</div>"
      ],
      "text/plain": [
       "             Ridge              LASSO                 XGB                LGBM  \\\n",
       "             AUPRC     AUROC    AUPRC     AUROC     AUPRC     AUROC     AUPRC   \n",
       "ED_visit  0.294047  0.798646  0.28843  0.797692  0.605714  0.936005  0.285457   \n",
       "\n",
       "                          RF            \n",
       "             AUROC     AUPRC     AUROC  \n",
       "ED_visit  0.775399  0.369115  0.819199  "
      ]
     },
     "execution_count": 18,
     "metadata": {},
     "output_type": "execute_result"
    }
   ],
   "source": [
    "evaluate_valid(models, X_train, Y_train, metainfo_train)"
   ]
  },
  {
   "cell_type": "markdown",
   "metadata": {},
   "source": [
    "## Evaluate Model"
   ]
  },
  {
   "cell_type": "code",
   "execution_count": 19,
   "metadata": {},
   "outputs": [
    {
     "data": {
      "text/html": [
       "<div>\n",
       "<style scoped>\n",
       "    .dataframe tbody tr th:only-of-type {\n",
       "        vertical-align: middle;\n",
       "    }\n",
       "\n",
       "    .dataframe tbody tr th {\n",
       "        vertical-align: top;\n",
       "    }\n",
       "\n",
       "    .dataframe thead tr th {\n",
       "        text-align: left;\n",
       "    }\n",
       "</style>\n",
       "<table border=\"1\" class=\"dataframe\">\n",
       "  <thead>\n",
       "    <tr>\n",
       "      <th></th>\n",
       "      <th colspan=\"2\" halign=\"left\">Ridge</th>\n",
       "      <th colspan=\"2\" halign=\"left\">LASSO</th>\n",
       "      <th colspan=\"2\" halign=\"left\">XGB</th>\n",
       "      <th colspan=\"2\" halign=\"left\">LGBM</th>\n",
       "      <th colspan=\"2\" halign=\"left\">RF</th>\n",
       "    </tr>\n",
       "    <tr>\n",
       "      <th></th>\n",
       "      <th>AUPRC</th>\n",
       "      <th>AUROC</th>\n",
       "      <th>AUPRC</th>\n",
       "      <th>AUROC</th>\n",
       "      <th>AUPRC</th>\n",
       "      <th>AUROC</th>\n",
       "      <th>AUPRC</th>\n",
       "      <th>AUROC</th>\n",
       "      <th>AUPRC</th>\n",
       "      <th>AUROC</th>\n",
       "    </tr>\n",
       "  </thead>\n",
       "  <tbody>\n",
       "    <tr>\n",
       "      <th>ED_visit</th>\n",
       "      <td>0.226223</td>\n",
       "      <td>0.694168</td>\n",
       "      <td>0.21776</td>\n",
       "      <td>0.689989</td>\n",
       "      <td>0.199263</td>\n",
       "      <td>0.695302</td>\n",
       "      <td>0.186826</td>\n",
       "      <td>0.675679</td>\n",
       "      <td>0.219374</td>\n",
       "      <td>0.694317</td>\n",
       "    </tr>\n",
       "  </tbody>\n",
       "</table>\n",
       "</div>"
      ],
      "text/plain": [
       "             Ridge              LASSO                 XGB                LGBM  \\\n",
       "             AUPRC     AUROC    AUPRC     AUROC     AUPRC     AUROC     AUPRC   \n",
       "ED_visit  0.226223  0.694168  0.21776  0.689989  0.199263  0.695302  0.186826   \n",
       "\n",
       "                          RF            \n",
       "             AUROC     AUPRC     AUROC  \n",
       "ED_visit  0.675679  0.219374  0.694317  "
      ]
     },
     "execution_count": 19,
     "metadata": {},
     "output_type": "execute_result"
    }
   ],
   "source": [
    "pd.concat([evaluate_test(model, X_test, Y_test) for alg, model in models.items()], keys=models.keys()).T"
   ]
  },
  {
   "cell_type": "code",
   "execution_count": 20,
   "metadata": {},
   "outputs": [
    {
     "data": {
      "text/html": [
       "<div>\n",
       "<style scoped>\n",
       "    .dataframe tbody tr th:only-of-type {\n",
       "        vertical-align: middle;\n",
       "    }\n",
       "\n",
       "    .dataframe tbody tr th {\n",
       "        vertical-align: top;\n",
       "    }\n",
       "\n",
       "    .dataframe thead tr th {\n",
       "        text-align: left;\n",
       "    }\n",
       "</style>\n",
       "<table border=\"1\" class=\"dataframe\">\n",
       "  <thead>\n",
       "    <tr>\n",
       "      <th></th>\n",
       "      <th colspan=\"2\" halign=\"left\">First Visit</th>\n",
       "      <th colspan=\"2\" halign=\"left\">Subsequent Visits</th>\n",
       "    </tr>\n",
       "    <tr>\n",
       "      <th></th>\n",
       "      <th>AUPRC</th>\n",
       "      <th>AUROC</th>\n",
       "      <th>AUPRC</th>\n",
       "      <th>AUROC</th>\n",
       "    </tr>\n",
       "  </thead>\n",
       "  <tbody>\n",
       "    <tr>\n",
       "      <th>ED_visit</th>\n",
       "      <td>0.237066</td>\n",
       "      <td>0.627529</td>\n",
       "      <td>0.1872</td>\n",
       "      <td>0.704117</td>\n",
       "    </tr>\n",
       "  </tbody>\n",
       "</table>\n",
       "</div>"
      ],
      "text/plain": [
       "         First Visit           Subsequent Visits          \n",
       "               AUPRC     AUROC             AUPRC     AUROC\n",
       "ED_visit    0.237066  0.627529            0.1872  0.704117"
      ]
     },
     "execution_count": 20,
     "metadata": {},
     "output_type": "execute_result"
    }
   ],
   "source": [
    "model = models['XGB']\n",
    "mask = metainfo_test['treatment_date'].isnull()\n",
    "pd.concat([\n",
    "    evaluate_test(model, X_test[mask], Y_test[mask]),\n",
    "    evaluate_test(model, X_test[~mask], Y_test[~mask])\n",
    "], keys=['First Visit', 'Subsequent Visits']).T"
   ]
  },
  {
   "cell_type": "code",
   "execution_count": 21,
   "metadata": {},
   "outputs": [
    {
     "data": {
      "text/html": [
       "<div>\n",
       "<style scoped>\n",
       "    .dataframe tbody tr th:only-of-type {\n",
       "        vertical-align: middle;\n",
       "    }\n",
       "\n",
       "    .dataframe tbody tr th {\n",
       "        vertical-align: top;\n",
       "    }\n",
       "\n",
       "    .dataframe thead th {\n",
       "        text-align: right;\n",
       "    }\n",
       "</style>\n",
       "<table border=\"1\" class=\"dataframe\">\n",
       "  <thead>\n",
       "    <tr style=\"text-align: right;\">\n",
       "      <th></th>\n",
       "      <th>Prediction Threshold</th>\n",
       "      <th>Alarm Rate</th>\n",
       "    </tr>\n",
       "  </thead>\n",
       "  <tbody>\n",
       "    <tr>\n",
       "      <th>0</th>\n",
       "      <td>0.202</td>\n",
       "      <td>0.104628</td>\n",
       "    </tr>\n",
       "    <tr>\n",
       "      <th>1</th>\n",
       "      <td>0.160</td>\n",
       "      <td>0.204225</td>\n",
       "    </tr>\n",
       "  </tbody>\n",
       "</table>\n",
       "</div>"
      ],
      "text/plain": [
       "   Prediction Threshold  Alarm Rate\n",
       "0                 0.202    0.104628\n",
       "1                 0.160    0.204225"
      ]
     },
     "execution_count": 21,
     "metadata": {},
     "output_type": "execute_result"
    }
   ],
   "source": [
    "# compute threshold that achieves 10% and 20% alarm rate\n",
    "pred = predict(model['ED_visit'], X_test)\n",
    "res = [compute_threshold(pred, desired_alarm_rate) for desired_alarm_rate in [0.1, 0.2]]\n",
    "pd.DataFrame(res, columns=['Prediction Threshold', 'Alarm Rate'])"
   ]
  },
  {
   "cell_type": "code",
   "execution_count": 22,
   "metadata": {},
   "outputs": [],
   "source": [
    "save_pickle(model['ED_visit'], './models', 'XGB_ED_visit_clinic_anchored')"
   ]
  }
 ],
 "metadata": {
  "kernelspec": {
   "display_name": "aim2reduce",
   "language": "python",
   "name": "python3"
  },
  "language_info": {
   "codemirror_mode": {
    "name": "ipython",
    "version": 3
   },
   "file_extension": ".py",
   "mimetype": "text/x-python",
   "name": "python",
   "nbconvert_exporter": "python",
   "pygments_lexer": "ipython3",
   "version": "3.11.8"
  }
 },
 "nbformat": 4,
 "nbformat_minor": 2
}
