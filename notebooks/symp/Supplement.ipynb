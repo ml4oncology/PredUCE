{
 "cells": [
  {
   "cell_type": "code",
   "execution_count": 1,
   "metadata": {},
   "outputs": [],
   "source": [
    "%%capture\n",
    "%cd ../../\n",
    "%load_ext autoreload\n",
    "%autoreload 2"
   ]
  },
  {
   "cell_type": "code",
   "execution_count": 3,
   "metadata": {},
   "outputs": [],
   "source": [
    "import matplotlib.pyplot as plt\n",
    "import pandas as pd\n",
    "\n",
    "from ml_common.engineer import get_change_since_prev_session\n",
    "from ml_common.prep import Splitter\n",
    "\n",
    "from preduce.prepare.filter import drop_samples_outside_study_date, keep_only_one_per_week\n",
    "from preduce.symp.label import get_symptom_labels\n",
    "from preduce.acu.label import get_event_labels\n",
    "from preduce.summarize import get_patient_characteristics, pre_and_post_treatment_missingness_summary\n",
    "\n",
    "pd.set_option('display.max_rows', 150)"
   ]
  },
  {
   "cell_type": "code",
   "execution_count": 4,
   "metadata": {},
   "outputs": [
    {
     "name": "stderr",
     "output_type": "stream",
     "text": [
      "Getting change since last session...: 100%|██████████| 9297/9297 [00:02<00:00, 3663.71it/s]\n",
      "Getting the first sessions of a given week...: 100%|██████████| 9297/9297 [00:00<00:00, 17022.70it/s]\n",
      "Getting symptom labels...: 100%|██████████| 1096/1096 [00:05<00:00, 206.93it/s]\n",
      "Getting symptom labels...: 100%|██████████| 1097/1097 [00:05<00:00, 191.77it/s]\n",
      "Getting symptom labels...: 100%|██████████| 1097/1097 [00:05<00:00, 189.41it/s]\n",
      "Getting symptom labels...: 100%|██████████| 1097/1097 [00:06<00:00, 178.64it/s]\n"
     ]
    }
   ],
   "source": [
    "symp = pd.read_parquet('./data/external/symptom.parquet.gzip')\n",
    "data = pd.read_parquet('./data/treatment_centered_clinical_dataset.parquet.gzip')\n",
    "data = get_change_since_prev_session(data)\n",
    "data = keep_only_one_per_week(data)\n",
    "data = drop_samples_outside_study_date(data)\n",
    "data = get_symptom_labels(data, symp)"
   ]
  },
  {
   "cell_type": "code",
   "execution_count": 6,
   "metadata": {},
   "outputs": [
    {
     "name": "stderr",
     "output_type": "stream",
     "text": [
      "100%|██████████| 1097/1097 [00:04<00:00, 267.12it/s]\n",
      "100%|██████████| 1096/1096 [00:04<00:00, 264.59it/s]\n",
      "100%|██████████| 1097/1097 [00:04<00:00, 249.60it/s]\n",
      "100%|██████████| 1097/1097 [00:04<00:00, 239.77it/s]\n"
     ]
    }
   ],
   "source": [
    "# extract ED within 30 days label\n",
    "emerg = pd.read_parquet('./data/external/emergency_room_visit.parquet.gzip')\n",
    "data = get_event_labels(data, emerg, event_name='ED_visit')\n",
    "\n",
    "# extract death within 30 days label\n",
    "data['target_death'] = (data['date_of_death'] - data['treatment_date']).dt.days < 30"
   ]
  },
  {
   "cell_type": "markdown",
   "metadata": {},
   "source": [
    "# Missingness"
   ]
  },
  {
   "cell_type": "code",
   "execution_count": 7,
   "metadata": {},
   "outputs": [
    {
     "data": {
      "text/html": [
       "<div>\n",
       "<style scoped>\n",
       "    .dataframe tbody tr th:only-of-type {\n",
       "        vertical-align: middle;\n",
       "    }\n",
       "\n",
       "    .dataframe tbody tr th {\n",
       "        vertical-align: top;\n",
       "    }\n",
       "\n",
       "    .dataframe thead th {\n",
       "        text-align: right;\n",
       "    }\n",
       "</style>\n",
       "<table border=\"1\" class=\"dataframe\">\n",
       "  <thead>\n",
       "    <tr style=\"text-align: right;\">\n",
       "      <th></th>\n",
       "      <th>any_missingness_trt</th>\n",
       "      <th>target_missingness_trt</th>\n",
       "      <th>event_rate_trt</th>\n",
       "      <th>any_missingness_mrn</th>\n",
       "      <th>event_rate_mrn</th>\n",
       "    </tr>\n",
       "  </thead>\n",
       "  <tbody>\n",
       "    <tr>\n",
       "      <th>esas_nausea</th>\n",
       "      <td>10392 (41.6)</td>\n",
       "      <td>4647 (24.1)</td>\n",
       "      <td>1829 (12.5)</td>\n",
       "      <td>2062 (70.7)</td>\n",
       "      <td>801 (31.8)</td>\n",
       "    </tr>\n",
       "    <tr>\n",
       "      <th>esas_appetite</th>\n",
       "      <td>10367 (41.5)</td>\n",
       "      <td>4621 (24.0)</td>\n",
       "      <td>1949 (13.3)</td>\n",
       "      <td>2055 (70.5)</td>\n",
       "      <td>891 (35.4)</td>\n",
       "    </tr>\n",
       "    <tr>\n",
       "      <th>esas_pain</th>\n",
       "      <td>10356 (41.4)</td>\n",
       "      <td>4633 (24.0)</td>\n",
       "      <td>1955 (13.4)</td>\n",
       "      <td>2062 (70.7)</td>\n",
       "      <td>893 (35.5)</td>\n",
       "    </tr>\n",
       "    <tr>\n",
       "      <th>esas_shortness_of_breath</th>\n",
       "      <td>10366 (41.5)</td>\n",
       "      <td>4627 (24.0)</td>\n",
       "      <td>2152 (14.7)</td>\n",
       "      <td>2064 (70.8)</td>\n",
       "      <td>912 (36.3)</td>\n",
       "    </tr>\n",
       "    <tr>\n",
       "      <th>esas_tiredness</th>\n",
       "      <td>10367 (41.5)</td>\n",
       "      <td>4632 (24.1)</td>\n",
       "      <td>2695 (18.4)</td>\n",
       "      <td>2063 (70.8)</td>\n",
       "      <td>1111 (44.1)</td>\n",
       "    </tr>\n",
       "    <tr>\n",
       "      <th>esas_drowsiness</th>\n",
       "      <td>10401 (41.6)</td>\n",
       "      <td>4652 (24.2)</td>\n",
       "      <td>2270 (15.6)</td>\n",
       "      <td>2063 (70.8)</td>\n",
       "      <td>1001 (39.8)</td>\n",
       "    </tr>\n",
       "    <tr>\n",
       "      <th>esas_depression</th>\n",
       "      <td>10400 (41.6)</td>\n",
       "      <td>4637 (24.1)</td>\n",
       "      <td>2101 (14.4)</td>\n",
       "      <td>2065 (70.8)</td>\n",
       "      <td>923 (36.7)</td>\n",
       "    </tr>\n",
       "    <tr>\n",
       "      <th>esas_anxiety</th>\n",
       "      <td>10403 (41.6)</td>\n",
       "      <td>4643 (24.1)</td>\n",
       "      <td>2103 (14.4)</td>\n",
       "      <td>2069 (71.0)</td>\n",
       "      <td>934 (37.2)</td>\n",
       "    </tr>\n",
       "    <tr>\n",
       "      <th>esas_well_being</th>\n",
       "      <td>10551 (42.2)</td>\n",
       "      <td>4666 (24.4)</td>\n",
       "      <td>2517 (17.4)</td>\n",
       "      <td>2079 (71.3)</td>\n",
       "      <td>1079 (43.0)</td>\n",
       "    </tr>\n",
       "    <tr>\n",
       "      <th>Mean</th>\n",
       "      <td>10400 (41.6)</td>\n",
       "      <td>4639 (24.1)</td>\n",
       "      <td>2174 (14.9)</td>\n",
       "      <td>2064 (70.8)</td>\n",
       "      <td>949 (37.7)</td>\n",
       "    </tr>\n",
       "  </tbody>\n",
       "</table>\n",
       "</div>"
      ],
      "text/plain": [
       "                         any_missingness_trt target_missingness_trt  \\\n",
       "esas_nausea                     10392 (41.6)            4647 (24.1)   \n",
       "esas_appetite                   10367 (41.5)            4621 (24.0)   \n",
       "esas_pain                       10356 (41.4)            4633 (24.0)   \n",
       "esas_shortness_of_breath        10366 (41.5)            4627 (24.0)   \n",
       "esas_tiredness                  10367 (41.5)            4632 (24.1)   \n",
       "esas_drowsiness                 10401 (41.6)            4652 (24.2)   \n",
       "esas_depression                 10400 (41.6)            4637 (24.1)   \n",
       "esas_anxiety                    10403 (41.6)            4643 (24.1)   \n",
       "esas_well_being                 10551 (42.2)            4666 (24.4)   \n",
       "Mean                            10400 (41.6)            4639 (24.1)   \n",
       "\n",
       "                         event_rate_trt any_missingness_mrn event_rate_mrn  \n",
       "esas_nausea                 1829 (12.5)         2062 (70.7)     801 (31.8)  \n",
       "esas_appetite               1949 (13.3)         2055 (70.5)     891 (35.4)  \n",
       "esas_pain                   1955 (13.4)         2062 (70.7)     893 (35.5)  \n",
       "esas_shortness_of_breath    2152 (14.7)         2064 (70.8)     912 (36.3)  \n",
       "esas_tiredness              2695 (18.4)         2063 (70.8)    1111 (44.1)  \n",
       "esas_drowsiness             2270 (15.6)         2063 (70.8)    1001 (39.8)  \n",
       "esas_depression             2101 (14.4)         2065 (70.8)     923 (36.7)  \n",
       "esas_anxiety                2103 (14.4)         2069 (71.0)     934 (37.2)  \n",
       "esas_well_being             2517 (17.4)         2079 (71.3)    1079 (43.0)  \n",
       "Mean                        2174 (14.9)         2064 (70.8)     949 (37.7)  "
      ]
     },
     "execution_count": 7,
     "metadata": {},
     "output_type": "execute_result"
    }
   ],
   "source": [
    "# Compute rates of ESAS symptom score missingness in the cohort\n",
    "symps = ['nausea', 'appetite', 'pain', 'shortness_of_breath', 'tiredness', 'drowsiness', 'depression', 'anxiety', 'well_being']\n",
    "pretreatment_cols = [f'esas_{symp}' for symp in symps]\n",
    "posttreatment_cols = [f'target_{col}_survey_date' for col in pretreatment_cols]\n",
    "event_cols = [f'target_{col}_change' for col in pretreatment_cols]\n",
    "splitter = Splitter()\n",
    "dev_cohort, test_cohort = splitter.temporal_split(data, split_date='2017-10-01')\n",
    "for name, cohort in {'test': test_cohort, 'dev': dev_cohort}.items():\n",
    "    result = pre_and_post_treatment_missingness_summary(cohort, pretreatment_cols, posttreatment_cols, event_cols)\n",
    "    result.to_csv(f'./result/tables/missingness_summary_{name}_cohort.csv')\n",
    "result[['any_missingness_trt', 'target_missingness_trt', 'event_rate_trt', 'any_missingness_mrn', 'event_rate_mrn']]"
   ]
  },
  {
   "cell_type": "code",
   "execution_count": 9,
   "metadata": {},
   "outputs": [
    {
     "data": {
      "image/png": "[encoded data removed]",
      "text/plain": [
       "<Figure size 1800x600 with 3 Axes>"
      ]
     },
     "metadata": {},
     "output_type": "display_data"
    }
   ],
   "source": [
    "# Comapre the cohort with missing ESAS symptom scores and the cohort without missing ESAS symptom scores\n",
    "cancer_cols = [col for col in dev_cohort.columns if col.startswith('cancer_site')]\n",
    "top_cancers = dev_cohort[cancer_cols].sum().sort_values(ascending=False)[:5].index\n",
    "top_regimens = dev_cohort['regimen'].value_counts()[:5].index\n",
    "extra_targets = ['target_ED_visit', 'target_death']\n",
    "kwargs = dict(top_cancers=top_cancers, top_regimens=top_regimens, targets=extra_targets)\n",
    "\n",
    "fig, axes = plt.subplots(nrows=1, ncols=3, figsize=(18,6))\n",
    "cohorts = {'dev': dev_cohort, 'test': test_cohort, 'overall': data}\n",
    "result = dict()\n",
    "for i, (name, cohort) in enumerate(cohorts.items()):\n",
    "    mask = cohort[event_cols].notnull().any(axis=1)\n",
    "\n",
    "    # compare with respect to treatments\n",
    "    no_scores_trts, has_scores_trts = cohort[~mask], cohort[mask]\n",
    "    N_ns, N_hs = len(no_scores_trts), len(has_scores_trts)\n",
    "    result[(name, 'No Scores', f'Treatments (N={N_ns})')] = get_patient_characteristics(no_scores_trts, **kwargs)\n",
    "    result[(name, 'Has Scores', f'Treatments (N={N_hs})')] = get_patient_characteristics(has_scores_trts,  **kwargs)\n",
    "\n",
    "    # compare with respect to patients\n",
    "    no_scores_mrns = no_scores_trts.groupby('mrn').last()\n",
    "    no_scores_mrns['target_ED_visit'] = no_scores_trts.groupby('mrn')['target_ED_visit'].apply(any)\n",
    "    has_scores_mrns = has_scores_trts.groupby('mrn').last()\n",
    "    has_scores_mrns['target_ED_visit'] = has_scores_trts.groupby('mrn')['target_ED_visit'].apply(any)\n",
    "    N_ns, N_hs = len(no_scores_mrns), len(has_scores_mrns)\n",
    "    result[(name, 'No Scores', f'Patients (N={N_ns})')] = get_patient_characteristics(no_scores_mrns, **kwargs)\n",
    "    result[(name, 'Has Scores', f'Patients (N={N_hs})')] = get_patient_characteristics(has_scores_mrns, **kwargs)\n",
    "\n",
    "    # comapre their time frames\n",
    "    min_year = cohort['treatment_date'].dt.year.min()\n",
    "    max_year = cohort['treatment_date'].dt.year.max()\n",
    "    bins = max_year - min_year\n",
    "    perc = len(no_scores_trts) / (len(no_scores_trts) + len(has_scores_trts))\n",
    "    no_scores_trts['treatment_date'].dt.year.hist(bins=bins, ax=axes[i], alpha=0.5, label=f'No Scores ({perc:.2f})')\n",
    "    has_scores_trts['treatment_date'].dt.year.hist(bins=bins, ax=axes[i], alpha=0.5, label='Has Scores')\n",
    "    axes[i].legend()\n",
    "    axes[i].set(xticks=range(min_year, max_year+1), xticklabels=range(min_year, max_year+1), title=f'{name} cohort')\n",
    "\n",
    "result = pd.DataFrame(result)\n",
    "result.to_csv('./result/tables/missingness_cohort_characteristics.csv')"
   ]
  }
 ],
 "metadata": {
  "kernelspec": {
   "display_name": "myenv",
   "language": "python",
   "name": "python3"
  },
  "language_info": {
   "codemirror_mode": {
    "name": "ipython",
    "version": 3
   },
   "file_extension": ".py",
   "mimetype": "text/x-python",
   "name": "python",
   "nbconvert_exporter": "python",
   "pygments_lexer": "ipython3",
   "version": "3.11.8"
  }
 },
 "nbformat": 4,
 "nbformat_minor": 2
}
